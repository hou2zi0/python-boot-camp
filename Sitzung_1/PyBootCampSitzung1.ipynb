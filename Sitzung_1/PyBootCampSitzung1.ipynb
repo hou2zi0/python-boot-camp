{
 "cells": [
  {
   "cell_type": "markdown",
   "metadata": {
    "toc": "true"
   },
   "source": [
    "# Table of Contents\n",
    " <p><div class=\"lev1 toc-item\"><a href=\"#Python-Basics\" data-toc-modified-id=\"Python-Basics-1\"><span class=\"toc-item-num\">1&nbsp;&nbsp;</span>Python Basics</a></div><div class=\"lev2 toc-item\"><a href=\"#Imports\" data-toc-modified-id=\"Imports-11\"><span class=\"toc-item-num\">1.1&nbsp;&nbsp;</span>Imports</a></div><div class=\"lev2 toc-item\"><a href=\"#Datentypen-und-Variablen\" data-toc-modified-id=\"Datentypen-und-Variablen-12\"><span class=\"toc-item-num\">1.2&nbsp;&nbsp;</span>Datentypen und Variablen</a></div><div class=\"lev2 toc-item\"><a href=\"#List--und-Dict-Comprehensions\" data-toc-modified-id=\"List--und-Dict-Comprehensions-13\"><span class=\"toc-item-num\">1.3&nbsp;&nbsp;</span>List- und Dict-Comprehensions</a></div><div class=\"lev2 toc-item\"><a href=\"#Benannte-Funktionen-und-anonyme-Lamda-Funktionen\" data-toc-modified-id=\"Benannte-Funktionen-und-anonyme-Lamda-Funktionen-14\"><span class=\"toc-item-num\">1.4&nbsp;&nbsp;</span>Benannte Funktionen und anonyme Lamda-Funktionen</a></div><div class=\"lev1 toc-item\"><a href=\"#Klassen-und-Objekte\" data-toc-modified-id=\"Klassen-und-Objekte-2\"><span class=\"toc-item-num\">2&nbsp;&nbsp;</span>Klassen und Objekte</a></div><div class=\"lev1 toc-item\"><a href=\"#Distanz--und-Ähnlichkeits-Messung\" data-toc-modified-id=\"Distanz--und-Ähnlichkeits-Messung-3\"><span class=\"toc-item-num\">3&nbsp;&nbsp;</span>Distanz- und Ähnlichkeits-Messung</a></div><div class=\"lev2 toc-item\"><a href=\"#Euklidische-Distanz\" data-toc-modified-id=\"Euklidische-Distanz-31\"><span class=\"toc-item-num\">3.1&nbsp;&nbsp;</span>Euklidische Distanz</a></div><div class=\"lev2 toc-item\"><a href=\"#Vergleich-von-Personendatensätzen\" data-toc-modified-id=\"Vergleich-von-Personendatensätzen-32\"><span class=\"toc-item-num\">3.2&nbsp;&nbsp;</span>Vergleich von Personendatensätzen</a></div><div class=\"lev2 toc-item\"><a href=\"#Text-Comparison\" data-toc-modified-id=\"Text-Comparison-33\"><span class=\"toc-item-num\">3.3&nbsp;&nbsp;</span>Text Comparison</a></div><div class=\"lev2 toc-item\"><a href=\"#Autoren-Ähnlichkeit-WIP\" data-toc-modified-id=\"Autoren-Ähnlichkeit-WIP-34\"><span class=\"toc-item-num\">3.4&nbsp;&nbsp;</span>Autoren-Ähnlichkeit WIP</a></div><div class=\"lev1 toc-item\"><a href=\"#Modules-&amp;-Packages\" data-toc-modified-id=\"Modules-&amp;-Packages-4\"><span class=\"toc-item-num\">4&nbsp;&nbsp;</span>Modules &amp; Packages</a></div>"
   ]
  },
  {
   "cell_type": "markdown",
   "metadata": {},
   "source": [
    "# Python Basics"
   ]
  },
  {
   "cell_type": "markdown",
   "metadata": {},
   "source": [
    "## Imports"
   ]
  },
  {
   "cell_type": "code",
   "execution_count": 1,
   "metadata": {
    "ExecuteTime": {
     "end_time": "2019-06-09T16:28:12.308633Z",
     "start_time": "2019-06-09T16:28:06.776172Z"
    }
   },
   "outputs": [],
   "source": [
    "# Standard import of library\n",
    "import math\n",
    "import spacy\n",
    "\n",
    "# Import with alias\n",
    "import pandas as pd"
   ]
  },
  {
   "cell_type": "markdown",
   "metadata": {},
   "source": [
    "## Datentypen und Variablen\n",
    "\n",
    "Python ist eine schwach typisierte Sprache. Daher müssen die Datentypen von Variablen nicht explizit angegeben werden."
   ]
  },
  {
   "cell_type": "code",
   "execution_count": 462,
   "metadata": {
    "ExecuteTime": {
     "end_time": "2019-06-11T07:55:31.105471Z",
     "start_time": "2019-06-11T07:55:30.990965Z"
    }
   },
   "outputs": [],
   "source": [
    "# String (iterable, immutable)\n",
    "iAmAStringVariable = 'I am a string variable.'\n",
    "\n",
    "# Integer (not iterable, immutable)\n",
    "iAmAnInteger = 123\n",
    "\n",
    "# Float (not iterable, immutable)\n",
    "iAmAnFloat = 123.456\n",
    "\n",
    "# List (iterable, mutable, mixed)\n",
    "# Zugriff über den Offset-Index erfolgt über Eckige-Klammer-Notation \n",
    "iAmAList = [ 1, 2, 'string', 3.45, True ]\n",
    "iAmAList[0] # -> 1\n",
    "iAmAList[2] # -> 'string'\n",
    "\n",
    "# Tuple (iterable, immutable, mixed)\n",
    "# Tuple können Anzahl n Einträge haben; sie sind – anders als der Name vll. \n",
    "# suggeriert – nicht auf zwei Einträge beschränkt.\n",
    "# Zugriff über den Offset-Index erfolgt über Eckige-Klammer-Notation \n",
    "iAmATuple = ('Key', 123)\n",
    "iAmAQuintuple = ('Key', 123, True, 3.45, [])\n",
    "iAmAQuintuple[2] # -> True\n",
    "\n",
    "# Dictionary (iterable, mutable, mixed)\n",
    "# Ein Dictionary ist eine Liste von Schlüssel-Wert-Paaren.\n",
    "# Zugriff über den Schlüssel erfolgt über Eckige-Klammer-Notation\n",
    "iAmADictionary = { \n",
    "                    \"key_1\": \"value_2\",\n",
    "                    \"key_2\": 123,\n",
    "                    \"key_3\": [ 1, 2, 3 ]\n",
    "                }\n",
    "iAmADictionary['key_3'] # -> [ 1, 2, 3 ]\n",
    "\n",
    "# Bool (not iterable, immutable)\n",
    "iAmABoolean = False\n",
    "\n",
    "# Objects [class instances] (depends on implementation)\n",
    "#iAmAnObject = "
   ]
  },
  {
   "cell_type": "markdown",
   "metadata": {},
   "source": [
    "## List- und Dict-Comprehensions\n",
    "\n",
    "List- und Dict-Comprehensions verarbeiten iterierbare Datentypen und geben eine Liste bzw. ein Dictionary zurück. Sie repräsentieren einen auf eine Zeile gezogenen For-Loop.\n",
    "\n",
    "Sie werden häufig zum Säubern von Daten benutzt.\n",
    "\n",
    "List-Comprehensions "
   ]
  },
  {
   "cell_type": "code",
   "execution_count": 463,
   "metadata": {
    "ExecuteTime": {
     "end_time": "2019-06-11T08:21:30.878550Z",
     "start_time": "2019-06-11T08:21:30.770568Z"
    }
   },
   "outputs": [
    {
     "data": {
      "text/plain": [
       "[3, 3, 6, 5, 7]"
      ]
     },
     "execution_count": 463,
     "metadata": {},
     "output_type": "execute_result"
    }
   ],
   "source": [
    "# Einfache List-Comprehension:\n",
    "# Merksatz: Transform( item ) for item in list.\n",
    "\n",
    "listOfWords = [ 'cat', 'dog', 'monkey', 'horse', 'chicken']\n",
    "\n",
    "[ len(item) for item in listOfWords ] # -> [ 3, 3, 6, 5, 7 ]"
   ]
  },
  {
   "cell_type": "code",
   "execution_count": 465,
   "metadata": {
    "ExecuteTime": {
     "end_time": "2019-06-11T08:24:46.085271Z",
     "start_time": "2019-06-11T08:24:46.075937Z"
    }
   },
   "outputs": [
    {
     "data": {
      "text/plain": [
       "[2, 4]"
      ]
     },
     "execution_count": 465,
     "metadata": {},
     "output_type": "execute_result"
    }
   ],
   "source": [
    "# Eine einfache If-Condition wird ans Ende der Expression gesetzt.\n",
    "\n",
    "[ item for item in [1,2,3,4,5] if item %2 == 0 ]"
   ]
  },
  {
   "cell_type": "code",
   "execution_count": 469,
   "metadata": {
    "ExecuteTime": {
     "end_time": "2019-06-11T08:24:58.185453Z",
     "start_time": "2019-06-11T08:24:58.178408Z"
    }
   },
   "outputs": [
    {
     "name": "stdout",
     "output_type": "stream",
     "text": [
      "1 hat einen Rest.\n",
      "2 hat keinen Rest.\n",
      "3 hat einen Rest.\n",
      "4 hat keinen Rest.\n",
      "5 hat einen Rest.\n"
     ]
    }
   ],
   "source": [
    "# Eine If-Else-Condition wird hingegen direkt hiner das erste Transformations-Element der Expression gesetzt.\n",
    "\n",
    "[ print(item, 'hat einen Rest.') if item %2 != 0 else print(item, 'hat keinen Rest.') for item in [1,2,3,4,5]  ];"
   ]
  },
  {
   "cell_type": "code",
   "execution_count": 471,
   "metadata": {
    "ExecuteTime": {
     "end_time": "2019-06-11T08:25:50.421519Z",
     "start_time": "2019-06-11T08:25:50.406217Z"
    }
   },
   "outputs": [
    {
     "data": {
      "text/plain": [
       "[['2'], ['4', '6'], ['8']]"
      ]
     },
     "execution_count": 471,
     "metadata": {},
     "output_type": "execute_result"
    }
   ],
   "source": [
    "# Wenn das Transformations-Element einer List-Comprehension wiederum selbst ein Iterable ist, \n",
    "# kann das Transformations-Element durch eine zweite, eingeschobene List-Comprehension ersetzt werden.\n",
    "# Aus Gründen von Lesbarkeit und Verständnis sollten verschachtelte List-Comprehensions mit bedacht \n",
    "# eingesetzt und gegebenenfalls (zum Teil) durch eundeutigere For-Loops ersetzt werden.\n",
    "\n",
    "[ [ str(i) for i in lst if i % 2 == 0 ]  for lst in [[1,2,3], [4,5,6], [7,8,9]] ]"
   ]
  },
  {
   "cell_type": "code",
   "execution_count": 472,
   "metadata": {
    "ExecuteTime": {
     "end_time": "2019-06-11T08:29:46.567878Z",
     "start_time": "2019-06-11T08:29:46.523776Z"
    }
   },
   "outputs": [
    {
     "data": {
      "text/plain": [
       "{'1': 0, '2': 0, '3': 0, '4': 0, '5': 0}"
      ]
     },
     "execution_count": 472,
     "metadata": {},
     "output_type": "execute_result"
    }
   ],
   "source": [
    "# Für Dict-Comprehensions gilt im Grunde das selbe wie für List-Comprehensions. Ausnamen sind, dass sie durch \n",
    "# geschweifte Klammern gerahmt werden und das Transformations-Element als Schlüssel-Wert-Paar aufgebaut sein muss.\n",
    "\n",
    "{ str(i): 0 for i in [1,2,3,4,5] }"
   ]
  },
  {
   "cell_type": "code",
   "execution_count": 476,
   "metadata": {
    "ExecuteTime": {
     "end_time": "2019-06-11T08:33:20.033046Z",
     "start_time": "2019-06-11T08:33:20.017078Z"
    }
   },
   "outputs": [
    {
     "data": {
      "text/plain": [
       "[('i', 1), ('j', 2)]"
      ]
     },
     "execution_count": 476,
     "metadata": {},
     "output_type": "execute_result"
    }
   ],
   "source": [
    "# Beispiele:\n",
    "# Ein Dictionary kann bspw. mittels einer List-Comprehension in eine Liste von Tuplen verwandelt werden.\n",
    "\n",
    "[ (i,j) for i,j in { \"i\": 1, \"j\": 2 }.items() ] # -> [ ( 'i', 1 ), ( 'j', 2 ) ]"
   ]
  },
  {
   "cell_type": "code",
   "execution_count": 477,
   "metadata": {
    "ExecuteTime": {
     "end_time": "2019-06-11T08:33:22.252620Z",
     "start_time": "2019-06-11T08:33:22.243353Z"
    }
   },
   "outputs": [
    {
     "data": {
      "text/plain": [
       "[('x', 'y'), ('a', 'b')]"
      ]
     },
     "execution_count": 477,
     "metadata": {},
     "output_type": "execute_result"
    }
   ],
   "source": [
    "# Permutation der Elemente einer Liste von Tupeln.\n",
    "\n",
    "[ (j,i) for i,j in [ ( 'y', 'x' ), ( 'b', 'a' ) ] ] # -> [('x', 'y'), ('a', 'b')]"
   ]
  },
  {
   "cell_type": "markdown",
   "metadata": {},
   "source": [
    "## Benannte Funktionen und anonyme Lamda-Funktionen"
   ]
  },
  {
   "cell_type": "markdown",
   "metadata": {},
   "source": [
    "Benannte Funktionen werden mit einem individuellen Namen initialisiert und stehen im weiteren unter diesem Namen zur Verfügung. Anonyme oder Lamda-Funktionen hingegen müssen, um persitent verfügbar zu sein, in eine Variable gespeichert werden, oder an Ort und Stelle als _instant function_ aufgerufen werden."
   ]
  },
  {
   "cell_type": "code",
   "execution_count": 482,
   "metadata": {
    "ExecuteTime": {
     "end_time": "2019-06-11T09:04:21.015896Z",
     "start_time": "2019-06-11T09:04:20.994061Z"
    }
   },
   "outputs": [
    {
     "name": "stdout",
     "output_type": "stream",
     "text": [
      "Hello!\n"
     ]
    },
    {
     "data": {
      "text/plain": [
       "'Hello!'"
      ]
     },
     "execution_count": 482,
     "metadata": {},
     "output_type": "execute_result"
    }
   ],
   "source": [
    "# Benannte Funktionen werden mit dem Schlüsselwort def eingeleitet, es folgt der Funktionsname und \n",
    "# in runden Klammern gegebenenfalls eine Liste von Parametern, welche beim Aufruf als Argumente \n",
    "# übergeben werden können.\n",
    "\n",
    "def Hello():\n",
    "    \"\"\"I am a Hello func.\"\"\"\n",
    "    print('Hello!')\n",
    "    return \"Hello!\"\n",
    "\n",
    "Hello()"
   ]
  },
  {
   "cell_type": "code",
   "execution_count": 483,
   "metadata": {
    "ExecuteTime": {
     "end_time": "2019-06-11T09:05:52.354339Z",
     "start_time": "2019-06-11T09:05:52.289640Z"
    }
   },
   "outputs": [
    {
     "name": "stdout",
     "output_type": "stream",
     "text": [
      "Hello!\n",
      "Live long and prosper!\n"
     ]
    },
    {
     "data": {
      "text/plain": [
       "'Live long and prosper!'"
      ]
     },
     "execution_count": 483,
     "metadata": {},
     "output_type": "execute_result"
    }
   ],
   "source": [
    "# Parameter können mit einem Default-Wert angegeben werden.\n",
    "\n",
    "def Greet(greeting='Hello'):\n",
    "    \"\"\"I am a Greet func.\"\"\"\n",
    "    print(f'{greeting}!')\n",
    "    return f'{greeting}!'\n",
    "\n",
    "Greet()\n",
    "Greet('Live long and prosper')"
   ]
  },
  {
   "cell_type": "code",
   "execution_count": 484,
   "metadata": {
    "ExecuteTime": {
     "end_time": "2019-06-11T09:09:13.739258Z",
     "start_time": "2019-06-11T09:09:13.678372Z"
    }
   },
   "outputs": [
    {
     "data": {
      "text/plain": [
       "'Hello, George!'"
      ]
     },
     "execution_count": 484,
     "metadata": {},
     "output_type": "execute_result"
    }
   ],
   "source": [
    "# Eine anonyme oder Lambda-Funktion muss auf einer einzigen Zeile geschrieben werden – es sind also keine Loops- \n",
    "# oder mehrzeilige Konstrukte möglich. Eine Lambda-Funktion wird durch das Schlüsselwort lambda eingeleitet, es folgen\n",
    "# die Parameter; ein Doppelpunkt trennt den folgenden Rückgabewert ab. Eine Lambda-Funktion besteht also nur aus\n",
    "# Argumenten und einer Expression, die als Rückgabewert während der Rückgabe evaluiert wird. Damit die Funktion \n",
    "# mit einem Namen aufgerufen werden kann, muss sie in einer Variablen gespeichert werden.\n",
    "\n",
    "func = lambda name: f'Hello, {name}!'\n",
    "func('George')"
   ]
  },
  {
   "cell_type": "code",
   "execution_count": 487,
   "metadata": {
    "ExecuteTime": {
     "end_time": "2019-06-11T09:10:43.307246Z",
     "start_time": "2019-06-11T09:10:43.297393Z"
    }
   },
   "outputs": [
    {
     "data": {
      "text/plain": [
       "'Hello, Timmy'"
      ]
     },
     "execution_count": 487,
     "metadata": {},
     "output_type": "execute_result"
    }
   ],
   "source": [
    "# Soll die Lambda-Funktion an Ort udn Stelle evaluiert werden, muss der Funktionskörper in runde Klammern \n",
    "# gepackt und mit direkt folgenden runden Klammern direkt mit Parametern aufgerufen werden.\n",
    "\n",
    "( lambda name: f'Hello, {name}' )('Timmy')"
   ]
  },
  {
   "cell_type": "code",
   "execution_count": 490,
   "metadata": {
    "ExecuteTime": {
     "end_time": "2019-06-11T09:12:49.799517Z",
     "start_time": "2019-06-11T09:12:49.784750Z"
    }
   },
   "outputs": [
    {
     "name": "stdout",
     "output_type": "stream",
     "text": [
      "Hello, George!\n",
      "Good Morning, George!\n",
      "Bye, George!\n"
     ]
    }
   ],
   "source": [
    "# Currying bedeutet, dass eine Funktion eine weitere, bereits teilweise mit Argumenten befüllte Funktion zurückgibt. \n",
    "# Auf diese Weise können Funktionen mit Default-Werten 'vorgeladen' werden. \n",
    "\n",
    "def Greet(phrase):\n",
    "    return lambda name: print(f'{phrase}, {name}!')\n",
    "\n",
    "Hello = Greet('Hello')\n",
    "GoodMorning = Greet('Good Morning')\n",
    "Bye = Greet('Bye')\n",
    "\n",
    "Hello('George')\n",
    "GoodMorning('George')\n",
    "Bye('George')\n"
   ]
  },
  {
   "cell_type": "markdown",
   "metadata": {},
   "source": [
    "# Klassen und Objekte\n",
    "\n",
    "Klassen sind Blaupausen die Entitäten der realen Welt schematisch und reduziert in Programmiersprachen abbilden. Klassen dienen dabei dazu Daten und Methoden, die diese Daten verarbeiten, zusammenfassen zu können. Will man eine Bibliothek modellierne, könnte jedes Buch als Klasse _Buch_ formalisiert werden. Die Klasse würde Attribute (Merkmale) wie _Buchtitel_, _ISBN_, _ausgeliehen_, u.a.m. enthalten. Methoden, also in der Klasse definierte Funktionen, könnten die Attribute ausgeben und/oder verändern, e.g. die Methode _Ausleihstatus_ würde einen String wie `f'Ausgeliehen: {self.ausgeliehen}.'` zurückgeben. \n",
    "\n",
    "Mehr zu OOP in Python, [hier](https://realpython.com/python3-object-oriented-programming/)."
   ]
  },
  {
   "cell_type": "code",
   "execution_count": 500,
   "metadata": {
    "ExecuteTime": {
     "end_time": "2019-06-11T09:28:49.626841Z",
     "start_time": "2019-06-11T09:28:49.605711Z"
    }
   },
   "outputs": [],
   "source": [
    "\n",
    "class Monkey:\n",
    "    def __init__(self, name, color, favorite_foods):\n",
    "        self.name = name\n",
    "        self.color = color\n",
    "        self.cuteness = 'Over 9000!'\n",
    "        if type(favorite_foods) == list or type(favorite_foods) == tuple:\n",
    "            self.favorite_foods = favorite_foods\n",
    "        elif type(favorite_foods) == str:\n",
    "            self.favorite_foods = [favorite_foods]\n",
    "        else:\n",
    "            print('Error: fav foods not set.')\n",
    "            self.favorite_foods = []\n",
    "        \n",
    "    def __repr__(self):\n",
    "        return f'Monkey {self.name}'\n",
    "\n",
    "    def __str__(self):\n",
    "        return f'I am a monkey names {self.name} and my favorte foods are {\", \".join(self.favorite_foods)}.'"
   ]
  },
  {
   "cell_type": "code",
   "execution_count": 501,
   "metadata": {
    "ExecuteTime": {
     "end_time": "2019-06-11T09:28:52.462526Z",
     "start_time": "2019-06-11T09:28:52.453756Z"
    }
   },
   "outputs": [],
   "source": [
    "george = Monkey('George', 'red', ['Bananas', 'Pizza'])"
   ]
  },
  {
   "cell_type": "code",
   "execution_count": 502,
   "metadata": {
    "ExecuteTime": {
     "end_time": "2019-06-11T09:28:53.307805Z",
     "start_time": "2019-06-11T09:28:53.289389Z"
    }
   },
   "outputs": [
    {
     "data": {
      "text/plain": [
       "Monkey George"
      ]
     },
     "execution_count": 502,
     "metadata": {},
     "output_type": "execute_result"
    }
   ],
   "source": [
    "george # Gives __repr__"
   ]
  },
  {
   "cell_type": "code",
   "execution_count": 503,
   "metadata": {
    "ExecuteTime": {
     "end_time": "2019-06-11T09:29:15.979144Z",
     "start_time": "2019-06-11T09:29:15.964641Z"
    }
   },
   "outputs": [
    {
     "name": "stdout",
     "output_type": "stream",
     "text": [
      "I am a monkey names George and my favorte foods are Bananas, Pizza.\n"
     ]
    }
   ],
   "source": [
    "print(george) # Gives __str__"
   ]
  },
  {
   "cell_type": "code",
   "execution_count": 509,
   "metadata": {
    "ExecuteTime": {
     "end_time": "2019-06-11T10:10:11.961893Z",
     "start_time": "2019-06-11T10:10:11.943484Z"
    }
   },
   "outputs": [
    {
     "name": "stdout",
     "output_type": "stream",
     "text": [
      "I am a monkey names George and my favorte foods are Bananas, Pizza.\n",
      "I am a monkey names Evelyn and my favorte foods are Pudding.\n"
     ]
    },
    {
     "data": {
      "text/plain": [
       "[None, None]"
      ]
     },
     "execution_count": 509,
     "metadata": {},
     "output_type": "execute_result"
    }
   ],
   "source": [
    "evelyn = Monkey('Evelyn', 'yellow', 'Pudding')\n",
    "monkeys = [ george, evelyn ]\n",
    "[ print(monkey) for monkey in monkeys ]"
   ]
  },
  {
   "cell_type": "code",
   "execution_count": 507,
   "metadata": {
    "ExecuteTime": {
     "end_time": "2019-06-11T09:30:31.383165Z",
     "start_time": "2019-06-11T09:30:31.375576Z"
    }
   },
   "outputs": [
    {
     "name": "stdout",
     "output_type": "stream",
     "text": [
      "[Monkey George, Monkey Evelyn]\n"
     ]
    }
   ],
   "source": [
    "print(monkeys)"
   ]
  },
  {
   "cell_type": "markdown",
   "metadata": {},
   "source": [
    "# Distanz- und Ähnlichkeits-Messung"
   ]
  },
  {
   "cell_type": "markdown",
   "metadata": {},
   "source": [
    "## Euklidische Distanz\n",
    "\n",
    "d: Euklidische-Distanz-Funktion, nimmt zwei Vektoren mit n Dimensionen an. Aufgrund der Quadrierung ist es irrelevant von welchem Punkt aus die Distanz-Messung beginnt.\n",
    "\n",
    "$d(p,q) = d(q,p) = \\sqrt{\\sum_{i=1}^n (q_i-p_i)^2}$\n",
    "\n",
    "Hierbei gibt n die Anzahl der Dimensionen (columns) angibt, die einem Vektor (row) in der Matrix zukommen. Um die Distanz zweier Vektoren zu bestimmen, werden also die Werte der jeweiligen Dimensionen subtrahiert, das Ergebnis quadriert, um negative Zahlen als Ergebnis zu vermeiden, im Anschluss summiert und dann die Wurzel gezogen.\n",
    "\n",
    "Sind die zwei drei-dimensionalen Vektoren p und q als \n",
    "\n",
    "p = [1,3,2]\n",
    "\n",
    "q = [3,1,2]\n",
    "\n",
    "gegeben, dann ist die eukldidische Distanz der Vektoren\n",
    "\n",
    "$\\sqrt{(1-3)^2 + (3-1)^2 + (2-2)^2} = \\sqrt{(-2)^2 + (2)^2 + (0)^2} = \\sqrt{4+4+0} = \\sqrt{8} = 2.8284271247461903$\n",
    "\n",
    "Durch die Quadrierung gehen große Differenzen stärker in die Abstandsberechnung ein als kleine."
   ]
  },
  {
   "cell_type": "code",
   "execution_count": 535,
   "metadata": {
    "ExecuteTime": {
     "end_time": "2019-06-11T10:29:04.695277Z",
     "start_time": "2019-06-11T10:29:04.642310Z"
    }
   },
   "outputs": [
    {
     "name": "stdout",
     "output_type": "stream",
     "text": [
      "Distance is 3.4641016151377544.\n"
     ]
    },
    {
     "data": {
      "text/plain": [
       "3.4641016151377544"
      ]
     },
     "execution_count": 535,
     "metadata": {},
     "output_type": "execute_result"
    }
   ],
   "source": [
    "# Euklidische Distanz als benannte Funktion\n",
    "\n",
    "def euclidianDistance(p,q, silent=False):\n",
    "    \"\"\"Calculates eucledian distance between two n-dimensional vectors.\n",
    "        The vectors are represented as list of integers or floats.\n",
    "        Example:\n",
    "            euclidianDistance([1, 2],[3,4])\n",
    "            Distance is 2.8284271247461903.\"\"\"\n",
    "    squares = [ (p[i] - q[i])**2 for i in range(len(p)) ]\n",
    "    summed_squares = sum(squares)\n",
    "    distance = math.sqrt(summed_squares)\n",
    "    if silent == False:\n",
    "        print(f'Distance is {distance}.')\n",
    "    return distance\n",
    "\n",
    "euclidianDistance([1,1,1],[3,3,3])"
   ]
  },
  {
   "cell_type": "code",
   "execution_count": 511,
   "metadata": {
    "ExecuteTime": {
     "end_time": "2019-06-11T10:11:00.488863Z",
     "start_time": "2019-06-11T10:11:00.460812Z"
    }
   },
   "outputs": [
    {
     "data": {
      "text/plain": [
       "3.4641016151377544"
      ]
     },
     "execution_count": 511,
     "metadata": {},
     "output_type": "execute_result"
    }
   ],
   "source": [
    "# Euklidische Distanz als Lambda-Funktion\n",
    "\n",
    "euklid = lambda p,q: math.sqrt(sum([ (p[i] - q[i])**2 for i in range(len(p)) ]))\n",
    "euklid([1,1,1],[3,3,3])"
   ]
  },
  {
   "cell_type": "code",
   "execution_count": 512,
   "metadata": {
    "ExecuteTime": {
     "end_time": "2019-06-11T10:11:17.123688Z",
     "start_time": "2019-06-11T10:11:17.110388Z"
    }
   },
   "outputs": [
    {
     "data": {
      "text/plain": [
       "3.4641016151377544"
      ]
     },
     "execution_count": 512,
     "metadata": {},
     "output_type": "execute_result"
    }
   ],
   "source": [
    "# Euklidische Distanz als instantan evaluierte Lambda-Funktion\n",
    "\n",
    "(lambda p,q: math.sqrt(sum([ (p[i] - q[i])**2 for i in range(len(p)) ])))([1,1,1],[3,3,3])"
   ]
  },
  {
   "cell_type": "code",
   "execution_count": 513,
   "metadata": {
    "ExecuteTime": {
     "end_time": "2019-06-11T10:11:24.751659Z",
     "start_time": "2019-06-11T10:11:24.725878Z"
    }
   },
   "outputs": [
    {
     "data": {
      "text/plain": [
       "2.8284271247461903"
      ]
     },
     "execution_count": 513,
     "metadata": {},
     "output_type": "execute_result"
    }
   ],
   "source": [
    "p = [1,3,2]\n",
    "q = [3,1,2]\n",
    "euklid(p,q)"
   ]
  },
  {
   "cell_type": "markdown",
   "metadata": {
    "ExecuteTime": {
     "end_time": "2019-06-09T17:23:02.320453Z",
     "start_time": "2019-06-09T17:23:02.311688Z"
    }
   },
   "source": [
    "## Vergleich von Personendatensätzen"
   ]
  },
  {
   "cell_type": "code",
   "execution_count": 405,
   "metadata": {
    "ExecuteTime": {
     "end_time": "2019-06-10T14:07:23.686685Z",
     "start_time": "2019-06-10T14:07:23.531953Z"
    }
   },
   "outputs": [
    {
     "name": "stdout",
     "output_type": "stream",
     "text": [
      "people.csv       people_phys.csv  txt.txt\r\n"
     ]
    }
   ],
   "source": [
    "# Mit der Magic-Variable % können Shell-Befehle im Notebook ausgeführt werden.\n",
    "\n",
    "%ls input/"
   ]
  },
  {
   "cell_type": "code",
   "execution_count": 430,
   "metadata": {
    "ExecuteTime": {
     "end_time": "2019-06-10T14:39:09.723439Z",
     "start_time": "2019-06-10T14:39:09.662148Z"
    }
   },
   "outputs": [
    {
     "data": {
      "text/html": [
       "<div>\n",
       "<style scoped>\n",
       "    .dataframe tbody tr th:only-of-type {\n",
       "        vertical-align: middle;\n",
       "    }\n",
       "\n",
       "    .dataframe tbody tr th {\n",
       "        vertical-align: top;\n",
       "    }\n",
       "\n",
       "    .dataframe thead th {\n",
       "        text-align: right;\n",
       "    }\n",
       "</style>\n",
       "<table border=\"1\" class=\"dataframe\">\n",
       "  <thead>\n",
       "    <tr style=\"text-align: right;\">\n",
       "      <th></th>\n",
       "      <th>person</th>\n",
       "      <th>height</th>\n",
       "      <th>skin</th>\n",
       "      <th>hair</th>\n",
       "      <th>gender</th>\n",
       "      <th>education</th>\n",
       "      <th>income</th>\n",
       "      <th>family</th>\n",
       "    </tr>\n",
       "  </thead>\n",
       "  <tbody>\n",
       "    <tr>\n",
       "      <th>0</th>\n",
       "      <td>p1</td>\n",
       "      <td>1.55</td>\n",
       "      <td>0.1</td>\n",
       "      <td>0.90</td>\n",
       "      <td>0</td>\n",
       "      <td>0.4</td>\n",
       "      <td>0.7</td>\n",
       "      <td>0.2</td>\n",
       "    </tr>\n",
       "    <tr>\n",
       "      <th>1</th>\n",
       "      <td>p2</td>\n",
       "      <td>1.80</td>\n",
       "      <td>0.5</td>\n",
       "      <td>0.50</td>\n",
       "      <td>1</td>\n",
       "      <td>0.6</td>\n",
       "      <td>0.6</td>\n",
       "      <td>0.2</td>\n",
       "    </tr>\n",
       "    <tr>\n",
       "      <th>2</th>\n",
       "      <td>p3</td>\n",
       "      <td>1.65</td>\n",
       "      <td>0.2</td>\n",
       "      <td>0.30</td>\n",
       "      <td>0</td>\n",
       "      <td>0.2</td>\n",
       "      <td>0.2</td>\n",
       "      <td>0.6</td>\n",
       "    </tr>\n",
       "    <tr>\n",
       "      <th>3</th>\n",
       "      <td>p4</td>\n",
       "      <td>1.75</td>\n",
       "      <td>0.2</td>\n",
       "      <td>0.25</td>\n",
       "      <td>1</td>\n",
       "      <td>0.2</td>\n",
       "      <td>0.5</td>\n",
       "      <td>0.4</td>\n",
       "    </tr>\n",
       "    <tr>\n",
       "      <th>4</th>\n",
       "      <td>p5</td>\n",
       "      <td>1.55</td>\n",
       "      <td>0.1</td>\n",
       "      <td>0.90</td>\n",
       "      <td>1</td>\n",
       "      <td>0.4</td>\n",
       "      <td>0.5</td>\n",
       "      <td>0.6</td>\n",
       "    </tr>\n",
       "    <tr>\n",
       "      <th>5</th>\n",
       "      <td>p6</td>\n",
       "      <td>1.70</td>\n",
       "      <td>1.0</td>\n",
       "      <td>1.00</td>\n",
       "      <td>0</td>\n",
       "      <td>0.8</td>\n",
       "      <td>0.8</td>\n",
       "      <td>0.2</td>\n",
       "    </tr>\n",
       "    <tr>\n",
       "      <th>6</th>\n",
       "      <td>p7</td>\n",
       "      <td>1.55</td>\n",
       "      <td>0.1</td>\n",
       "      <td>0.90</td>\n",
       "      <td>1</td>\n",
       "      <td>0.4</td>\n",
       "      <td>0.7</td>\n",
       "      <td>0.3</td>\n",
       "    </tr>\n",
       "  </tbody>\n",
       "</table>\n",
       "</div>"
      ],
      "text/plain": [
       "  person  height  skin  hair  gender  education  income  family\n",
       "0     p1    1.55   0.1  0.90       0        0.4     0.7     0.2\n",
       "1     p2    1.80   0.5  0.50       1        0.6     0.6     0.2\n",
       "2     p3    1.65   0.2  0.30       0        0.2     0.2     0.6\n",
       "3     p4    1.75   0.2  0.25       1        0.2     0.5     0.4\n",
       "4     p5    1.55   0.1  0.90       1        0.4     0.5     0.6\n",
       "5     p6    1.70   1.0  1.00       0        0.8     0.8     0.2\n",
       "6     p7    1.55   0.1  0.90       1        0.4     0.7     0.3"
      ]
     },
     "execution_count": 430,
     "metadata": {},
     "output_type": "execute_result"
    }
   ],
   "source": [
    "# Ein ? vor einer Funktion oder Methode ohn () gibt Informationen dazu zurück.\n",
    "#?pandas.read_csv \n",
    "\n",
    "Personen = pandas.read_csv('./input/people.csv', # Pfad zur Datei\n",
    "                           sep=';',              # Spalten-Trenner in der CSV \n",
    "                           decimal=\",\",          # Dezimalzeichen \n",
    "                           skip_blank_lines=True)# Leere Zeilen überspringen\n",
    "\n",
    "Personen.head(10) # head gibt den Anfang des Dataframes aus, tail den Schluss"
   ]
  },
  {
   "cell_type": "code",
   "execution_count": 518,
   "metadata": {
    "ExecuteTime": {
     "end_time": "2019-06-11T10:16:28.433076Z",
     "start_time": "2019-06-11T10:16:28.426405Z"
    },
    "scrolled": true
   },
   "outputs": [
    {
     "data": {
      "text/plain": [
       "0    p1\n",
       "1    p2\n",
       "2    p3\n",
       "3    p4\n",
       "4    p5\n",
       "5    p6\n",
       "6    p7\n",
       "Name: person, dtype: object"
      ]
     },
     "execution_count": 518,
     "metadata": {},
     "output_type": "execute_result"
    }
   ],
   "source": [
    "# Auf eine oder mehrere Spalten wird in Eckiger-Klammer-Notation zugegriffen.\n",
    "# Ist eine Spalte gewünscht wird ein String benutzt, sind mehrere Spalten gewünscht\n",
    "# dann wird eine Liste von Strings erwartet. Zurückgegeben wird eine Series oder ein DataFrame.\n",
    "\n",
    "Personen['person']"
   ]
  },
  {
   "cell_type": "code",
   "execution_count": 519,
   "metadata": {
    "ExecuteTime": {
     "end_time": "2019-06-11T10:16:29.295612Z",
     "start_time": "2019-06-11T10:16:29.274985Z"
    }
   },
   "outputs": [
    {
     "data": {
      "text/html": [
       "<div>\n",
       "<style scoped>\n",
       "    .dataframe tbody tr th:only-of-type {\n",
       "        vertical-align: middle;\n",
       "    }\n",
       "\n",
       "    .dataframe tbody tr th {\n",
       "        vertical-align: top;\n",
       "    }\n",
       "\n",
       "    .dataframe thead th {\n",
       "        text-align: right;\n",
       "    }\n",
       "</style>\n",
       "<table border=\"1\" class=\"dataframe\">\n",
       "  <thead>\n",
       "    <tr style=\"text-align: right;\">\n",
       "      <th></th>\n",
       "      <th>person</th>\n",
       "      <th>gender</th>\n",
       "    </tr>\n",
       "  </thead>\n",
       "  <tbody>\n",
       "    <tr>\n",
       "      <th>0</th>\n",
       "      <td>p1</td>\n",
       "      <td>0</td>\n",
       "    </tr>\n",
       "    <tr>\n",
       "      <th>1</th>\n",
       "      <td>p2</td>\n",
       "      <td>1</td>\n",
       "    </tr>\n",
       "    <tr>\n",
       "      <th>2</th>\n",
       "      <td>p3</td>\n",
       "      <td>0</td>\n",
       "    </tr>\n",
       "    <tr>\n",
       "      <th>3</th>\n",
       "      <td>p4</td>\n",
       "      <td>1</td>\n",
       "    </tr>\n",
       "    <tr>\n",
       "      <th>4</th>\n",
       "      <td>p5</td>\n",
       "      <td>1</td>\n",
       "    </tr>\n",
       "    <tr>\n",
       "      <th>5</th>\n",
       "      <td>p6</td>\n",
       "      <td>0</td>\n",
       "    </tr>\n",
       "    <tr>\n",
       "      <th>6</th>\n",
       "      <td>p7</td>\n",
       "      <td>1</td>\n",
       "    </tr>\n",
       "  </tbody>\n",
       "</table>\n",
       "</div>"
      ],
      "text/plain": [
       "  person  gender\n",
       "0     p1       0\n",
       "1     p2       1\n",
       "2     p3       0\n",
       "3     p4       1\n",
       "4     p5       1\n",
       "5     p6       0\n",
       "6     p7       1"
      ]
     },
     "execution_count": 519,
     "metadata": {},
     "output_type": "execute_result"
    }
   ],
   "source": [
    "Personen[['person', 'gender']]"
   ]
  },
  {
   "cell_type": "code",
   "execution_count": 521,
   "metadata": {
    "ExecuteTime": {
     "end_time": "2019-06-11T10:17:59.998318Z",
     "start_time": "2019-06-11T10:17:59.953913Z"
    }
   },
   "outputs": [
    {
     "data": {
      "text/plain": [
       "person         p5\n",
       "height       1.55\n",
       "skin          0.1\n",
       "hair          0.9\n",
       "gender          1\n",
       "education     0.4\n",
       "income        0.5\n",
       "family        0.6\n",
       "Name: 4, dtype: object"
      ]
     },
     "execution_count": 521,
     "metadata": {},
     "output_type": "execute_result"
    }
   ],
   "source": [
    "# Auf eine Row wird mittels iloc-Methode und Index in eckigen Klammern zugegriffen.\n",
    "\n",
    "Personen.iloc[4]"
   ]
  },
  {
   "cell_type": "code",
   "execution_count": 523,
   "metadata": {
    "ExecuteTime": {
     "end_time": "2019-06-11T10:19:17.501018Z",
     "start_time": "2019-06-11T10:19:17.480243Z"
    }
   },
   "outputs": [
    {
     "data": {
      "text/plain": [
       "1.55"
      ]
     },
     "execution_count": 523,
     "metadata": {},
     "output_type": "execute_result"
    }
   ],
   "source": [
    "# Die Schnittmenge kann durch Eckige-Klammern-Notation weiter eingegrenzt werden, \n",
    "# bis auf die Ebene einer einzigen Zelle.\n",
    "\n",
    "Personen.iloc[4]['height'] # == Personen.iloc[4].height"
   ]
  },
  {
   "cell_type": "code",
   "execution_count": 522,
   "metadata": {
    "ExecuteTime": {
     "end_time": "2019-06-11T10:18:38.980806Z",
     "start_time": "2019-06-11T10:18:38.974711Z"
    }
   },
   "outputs": [
    {
     "data": {
      "text/plain": [
       "'p3'"
      ]
     },
     "execution_count": 522,
     "metadata": {},
     "output_type": "execute_result"
    }
   ],
   "source": [
    "Personen['person'].iloc[2]"
   ]
  },
  {
   "cell_type": "code",
   "execution_count": 524,
   "metadata": {
    "ExecuteTime": {
     "end_time": "2019-06-11T10:22:21.269006Z",
     "start_time": "2019-06-11T10:22:21.168047Z"
    }
   },
   "outputs": [
    {
     "data": {
      "text/html": [
       "<div>\n",
       "<style scoped>\n",
       "    .dataframe tbody tr th:only-of-type {\n",
       "        vertical-align: middle;\n",
       "    }\n",
       "\n",
       "    .dataframe tbody tr th {\n",
       "        vertical-align: top;\n",
       "    }\n",
       "\n",
       "    .dataframe thead th {\n",
       "        text-align: right;\n",
       "    }\n",
       "</style>\n",
       "<table border=\"1\" class=\"dataframe\">\n",
       "  <thead>\n",
       "    <tr style=\"text-align: right;\">\n",
       "      <th></th>\n",
       "      <th>height</th>\n",
       "      <th>skin</th>\n",
       "      <th>hair</th>\n",
       "      <th>education</th>\n",
       "      <th>income</th>\n",
       "      <th>family</th>\n",
       "    </tr>\n",
       "  </thead>\n",
       "  <tbody>\n",
       "    <tr>\n",
       "      <th>0</th>\n",
       "      <td>1.55</td>\n",
       "      <td>0.1</td>\n",
       "      <td>0.90</td>\n",
       "      <td>0.4</td>\n",
       "      <td>0.7</td>\n",
       "      <td>0.2</td>\n",
       "    </tr>\n",
       "    <tr>\n",
       "      <th>1</th>\n",
       "      <td>1.80</td>\n",
       "      <td>0.5</td>\n",
       "      <td>0.50</td>\n",
       "      <td>0.6</td>\n",
       "      <td>0.6</td>\n",
       "      <td>0.2</td>\n",
       "    </tr>\n",
       "    <tr>\n",
       "      <th>2</th>\n",
       "      <td>1.65</td>\n",
       "      <td>0.2</td>\n",
       "      <td>0.30</td>\n",
       "      <td>0.2</td>\n",
       "      <td>0.2</td>\n",
       "      <td>0.6</td>\n",
       "    </tr>\n",
       "    <tr>\n",
       "      <th>3</th>\n",
       "      <td>1.75</td>\n",
       "      <td>0.2</td>\n",
       "      <td>0.25</td>\n",
       "      <td>0.2</td>\n",
       "      <td>0.5</td>\n",
       "      <td>0.4</td>\n",
       "    </tr>\n",
       "    <tr>\n",
       "      <th>4</th>\n",
       "      <td>1.55</td>\n",
       "      <td>0.1</td>\n",
       "      <td>0.90</td>\n",
       "      <td>0.4</td>\n",
       "      <td>0.5</td>\n",
       "      <td>0.6</td>\n",
       "    </tr>\n",
       "    <tr>\n",
       "      <th>5</th>\n",
       "      <td>1.70</td>\n",
       "      <td>1.0</td>\n",
       "      <td>1.00</td>\n",
       "      <td>0.8</td>\n",
       "      <td>0.8</td>\n",
       "      <td>0.2</td>\n",
       "    </tr>\n",
       "    <tr>\n",
       "      <th>6</th>\n",
       "      <td>1.55</td>\n",
       "      <td>0.1</td>\n",
       "      <td>0.90</td>\n",
       "      <td>0.4</td>\n",
       "      <td>0.7</td>\n",
       "      <td>0.3</td>\n",
       "    </tr>\n",
       "  </tbody>\n",
       "</table>\n",
       "</div>"
      ],
      "text/plain": [
       "   height  skin  hair  education  income  family\n",
       "0    1.55   0.1  0.90        0.4     0.7     0.2\n",
       "1    1.80   0.5  0.50        0.6     0.6     0.2\n",
       "2    1.65   0.2  0.30        0.2     0.2     0.6\n",
       "3    1.75   0.2  0.25        0.2     0.5     0.4\n",
       "4    1.55   0.1  0.90        0.4     0.5     0.6\n",
       "5    1.70   1.0  1.00        0.8     0.8     0.2\n",
       "6    1.55   0.1  0.90        0.4     0.7     0.3"
      ]
     },
     "execution_count": 524,
     "metadata": {},
     "output_type": "execute_result"
    }
   ],
   "source": [
    "# Auschluss von Spalten geschieht durch droppen der entsprechenden Columns in einer Kopie des DataFrames.\n",
    "\n",
    "decimated_pers = Personen.drop(['person', 'gender'], axis=1)\n",
    "decimated_pers"
   ]
  },
  {
   "cell_type": "code",
   "execution_count": 526,
   "metadata": {
    "ExecuteTime": {
     "end_time": "2019-06-11T10:22:57.005077Z",
     "start_time": "2019-06-11T10:22:56.989183Z"
    }
   },
   "outputs": [],
   "source": [
    "personVector = lambda index:  [ float(i) for i in Personen[['education', 'family', 'income']].iloc[index].tolist() ]"
   ]
  },
  {
   "cell_type": "code",
   "execution_count": 527,
   "metadata": {
    "ExecuteTime": {
     "end_time": "2019-06-11T10:22:57.703594Z",
     "start_time": "2019-06-11T10:22:57.685438Z"
    }
   },
   "outputs": [
    {
     "name": "stdout",
     "output_type": "stream",
     "text": [
      "Distance is 0.09999999999999998.\n"
     ]
    },
    {
     "data": {
      "text/plain": [
       "0.09999999999999998"
      ]
     },
     "execution_count": 527,
     "metadata": {},
     "output_type": "execute_result"
    }
   ],
   "source": [
    "euclidianDistance(personVector(0), personVector(6))"
   ]
  },
  {
   "cell_type": "code",
   "execution_count": 433,
   "metadata": {
    "ExecuteTime": {
     "end_time": "2019-06-10T14:39:37.589224Z",
     "start_time": "2019-06-10T14:39:37.367556Z"
    }
   },
   "outputs": [
    {
     "name": "stdout",
     "output_type": "stream",
     "text": [
      "p1\n",
      "Distance is 0.0.\n",
      "Distance is 0.2236067977499789.\n",
      "Distance is 0.6708203932499369.\n",
      "Distance is 0.34641016151377546.\n",
      "Distance is 0.44721359549995787.\n",
      "Distance is 0.4123105625617661.\n",
      "Distance is 0.09999999999999998.\n",
      "p2\n",
      "Distance is 0.2236067977499789.\n",
      "Distance is 0.0.\n",
      "Distance is 0.6928203230275508.\n",
      "Distance is 0.45825756949558394.\n",
      "Distance is 0.45825756949558394.\n",
      "Distance is 0.2828427124746191.\n",
      "Distance is 0.24494897427831774.\n",
      "p3\n",
      "Distance is 0.6708203932499369.\n",
      "Distance is 0.6928203230275508.\n",
      "Distance is 0.0.\n",
      "Distance is 0.3605551275463989.\n",
      "Distance is 0.36055512754639896.\n",
      "Distance is 0.938083151964686.\n",
      "Distance is 0.6164414002968976.\n",
      "p4\n",
      "Distance is 0.34641016151377546.\n",
      "Distance is 0.45825756949558394.\n",
      "Distance is 0.3605551275463989.\n",
      "Distance is 0.0.\n",
      "Distance is 0.282842712474619.\n",
      "Distance is 0.7000000000000001.\n",
      "Distance is 0.3.\n",
      "p5\n",
      "Distance is 0.44721359549995787.\n",
      "Distance is 0.45825756949558394.\n",
      "Distance is 0.36055512754639896.\n",
      "Distance is 0.282842712474619.\n",
      "Distance is 0.0.\n",
      "Distance is 0.6403124237432849.\n",
      "Distance is 0.3605551275463989.\n",
      "p6\n",
      "Distance is 0.4123105625617661.\n",
      "Distance is 0.2828427124746191.\n",
      "Distance is 0.938083151964686.\n",
      "Distance is 0.7000000000000001.\n",
      "Distance is 0.6403124237432849.\n",
      "Distance is 0.0.\n",
      "Distance is 0.42426406871192857.\n",
      "p7\n",
      "Distance is 0.09999999999999998.\n",
      "Distance is 0.24494897427831774.\n",
      "Distance is 0.6164414002968976.\n",
      "Distance is 0.3.\n",
      "Distance is 0.3605551275463989.\n",
      "Distance is 0.42426406871192857.\n",
      "Distance is 0.0.\n"
     ]
    }
   ],
   "source": [
    "for index in Personen.index.tolist():\n",
    "    print(Personen.iloc[index].person)\n",
    "    for index2 in Personen.index.tolist():\n",
    "        euclidianDistance(vector(index), vector(index2))"
   ]
  },
  {
   "cell_type": "code",
   "execution_count": 529,
   "metadata": {
    "ExecuteTime": {
     "end_time": "2019-06-11T10:25:39.174348Z",
     "start_time": "2019-06-11T10:25:39.156354Z"
    }
   },
   "outputs": [],
   "source": [
    "# DataFrames können mittels diverser Methoden wieder in Dateien geschrieben werden.\n",
    "\n",
    "decimated_pers.to_csv('./output/deciated.csv',\n",
    "                     sep=';',\n",
    "                     quotechar='\"',\n",
    "                     quoting=1,\n",
    "                     index=False)"
   ]
  },
  {
   "cell_type": "markdown",
   "metadata": {
    "ExecuteTime": {
     "end_time": "2019-06-09T19:02:53.643510Z",
     "start_time": "2019-06-09T19:02:53.636333Z"
    }
   },
   "source": [
    "## Text Comparison"
   ]
  },
  {
   "cell_type": "code",
   "execution_count": 216,
   "metadata": {
    "ExecuteTime": {
     "end_time": "2019-06-09T19:40:46.378016Z",
     "start_time": "2019-06-09T19:40:46.371812Z"
    }
   },
   "outputs": [],
   "source": [
    "txt_0 = \"I am a really cute dog. I like jumping.\"\n",
    "txt_1 = \"I am a really nice cat. I like to cuddle.\"\n",
    "txt_2 = \"I am a really cute dog. I liked to jump.\"\n",
    "txt_3 = \"You are a really cute cat. You like to cuddle.\"\n",
    "txt_4 = \"You were a really nice dog and you liked cuddling.\"\n",
    "txt_5 = \"You are a really nice cat. You like to cuddle.\""
   ]
  },
  {
   "cell_type": "code",
   "execution_count": 132,
   "metadata": {
    "ExecuteTime": {
     "end_time": "2019-06-09T18:28:48.445432Z",
     "start_time": "2019-06-09T18:28:47.110678Z"
    }
   },
   "outputs": [],
   "source": [
    "nlp = spacy.load('en')"
   ]
  },
  {
   "cell_type": "code",
   "execution_count": 220,
   "metadata": {
    "ExecuteTime": {
     "end_time": "2019-06-09T19:41:12.606883Z",
     "start_time": "2019-06-09T19:41:12.577048Z"
    }
   },
   "outputs": [],
   "source": [
    "docs = list(nlp.pipe([txt_0, txt_1, txt_2, txt_3, txt_4, txt_5]))"
   ]
  },
  {
   "cell_type": "code",
   "execution_count": 221,
   "metadata": {
    "ExecuteTime": {
     "end_time": "2019-06-09T19:41:13.660812Z",
     "start_time": "2019-06-09T19:41:13.644230Z"
    }
   },
   "outputs": [],
   "source": [
    "def buildBagOfWords(docs):\n",
    "    global_lemmata = []\n",
    "    [[ global_lemmata.append(token.lemma_) if token.lemma_ != '-PRON-' else global_lemmata.append(token.orth_) for token in doc ] for doc in docs ];\n",
    "\n",
    "    bagOfWords = { lemma: [] for lemma in list(set(global_lemmata)) }\n",
    "    lemmatized_texts = [[ token.lemma_ if token.lemma_ != '-PRON-' else token.orth_ for token in doc ] for doc in docs ]\n",
    "    \n",
    "    for lemma in list(set(global_lemmata)):\n",
    "        for text in lemmatized_texts:\n",
    "            bagOfWords[lemma].append(text.count(lemma))\n",
    "    return bagOfWords\n"
   ]
  },
  {
   "cell_type": "code",
   "execution_count": 222,
   "metadata": {
    "ExecuteTime": {
     "end_time": "2019-06-09T19:41:14.291411Z",
     "start_time": "2019-06-09T19:41:14.286442Z"
    }
   },
   "outputs": [],
   "source": [
    "words = buildBagOfWords(docs)"
   ]
  },
  {
   "cell_type": "code",
   "execution_count": 224,
   "metadata": {
    "ExecuteTime": {
     "end_time": "2019-06-09T19:41:21.660589Z",
     "start_time": "2019-06-09T19:41:21.633460Z"
    }
   },
   "outputs": [
    {
     "data": {
      "text/html": [
       "<div>\n",
       "<style scoped>\n",
       "    .dataframe tbody tr th:only-of-type {\n",
       "        vertical-align: middle;\n",
       "    }\n",
       "\n",
       "    .dataframe tbody tr th {\n",
       "        vertical-align: top;\n",
       "    }\n",
       "\n",
       "    .dataframe thead th {\n",
       "        text-align: right;\n",
       "    }\n",
       "</style>\n",
       "<table border=\"1\" class=\"dataframe\">\n",
       "  <thead>\n",
       "    <tr style=\"text-align: right;\">\n",
       "      <th></th>\n",
       "      <th>cuddle</th>\n",
       "      <th>jump</th>\n",
       "      <th>I</th>\n",
       "      <th>nice</th>\n",
       "      <th>a</th>\n",
       "      <th>you</th>\n",
       "      <th>really</th>\n",
       "      <th>cute</th>\n",
       "      <th>like</th>\n",
       "      <th>cat</th>\n",
       "      <th>.</th>\n",
       "      <th>You</th>\n",
       "      <th>be</th>\n",
       "      <th>and</th>\n",
       "      <th>to</th>\n",
       "      <th>dog</th>\n",
       "    </tr>\n",
       "  </thead>\n",
       "  <tbody>\n",
       "    <tr>\n",
       "      <th>0</th>\n",
       "      <td>0</td>\n",
       "      <td>1</td>\n",
       "      <td>2</td>\n",
       "      <td>0</td>\n",
       "      <td>1</td>\n",
       "      <td>0</td>\n",
       "      <td>1</td>\n",
       "      <td>1</td>\n",
       "      <td>1</td>\n",
       "      <td>0</td>\n",
       "      <td>2</td>\n",
       "      <td>0</td>\n",
       "      <td>1</td>\n",
       "      <td>0</td>\n",
       "      <td>0</td>\n",
       "      <td>1</td>\n",
       "    </tr>\n",
       "    <tr>\n",
       "      <th>1</th>\n",
       "      <td>1</td>\n",
       "      <td>0</td>\n",
       "      <td>2</td>\n",
       "      <td>1</td>\n",
       "      <td>1</td>\n",
       "      <td>0</td>\n",
       "      <td>1</td>\n",
       "      <td>0</td>\n",
       "      <td>1</td>\n",
       "      <td>1</td>\n",
       "      <td>2</td>\n",
       "      <td>0</td>\n",
       "      <td>1</td>\n",
       "      <td>0</td>\n",
       "      <td>1</td>\n",
       "      <td>0</td>\n",
       "    </tr>\n",
       "    <tr>\n",
       "      <th>2</th>\n",
       "      <td>0</td>\n",
       "      <td>1</td>\n",
       "      <td>2</td>\n",
       "      <td>0</td>\n",
       "      <td>1</td>\n",
       "      <td>0</td>\n",
       "      <td>1</td>\n",
       "      <td>1</td>\n",
       "      <td>1</td>\n",
       "      <td>0</td>\n",
       "      <td>2</td>\n",
       "      <td>0</td>\n",
       "      <td>1</td>\n",
       "      <td>0</td>\n",
       "      <td>1</td>\n",
       "      <td>1</td>\n",
       "    </tr>\n",
       "    <tr>\n",
       "      <th>3</th>\n",
       "      <td>1</td>\n",
       "      <td>0</td>\n",
       "      <td>0</td>\n",
       "      <td>0</td>\n",
       "      <td>1</td>\n",
       "      <td>0</td>\n",
       "      <td>1</td>\n",
       "      <td>1</td>\n",
       "      <td>1</td>\n",
       "      <td>1</td>\n",
       "      <td>2</td>\n",
       "      <td>2</td>\n",
       "      <td>1</td>\n",
       "      <td>0</td>\n",
       "      <td>1</td>\n",
       "      <td>0</td>\n",
       "    </tr>\n",
       "    <tr>\n",
       "      <th>4</th>\n",
       "      <td>1</td>\n",
       "      <td>0</td>\n",
       "      <td>0</td>\n",
       "      <td>1</td>\n",
       "      <td>1</td>\n",
       "      <td>1</td>\n",
       "      <td>1</td>\n",
       "      <td>0</td>\n",
       "      <td>1</td>\n",
       "      <td>0</td>\n",
       "      <td>1</td>\n",
       "      <td>1</td>\n",
       "      <td>1</td>\n",
       "      <td>1</td>\n",
       "      <td>0</td>\n",
       "      <td>1</td>\n",
       "    </tr>\n",
       "    <tr>\n",
       "      <th>5</th>\n",
       "      <td>1</td>\n",
       "      <td>0</td>\n",
       "      <td>0</td>\n",
       "      <td>1</td>\n",
       "      <td>1</td>\n",
       "      <td>0</td>\n",
       "      <td>1</td>\n",
       "      <td>0</td>\n",
       "      <td>1</td>\n",
       "      <td>1</td>\n",
       "      <td>2</td>\n",
       "      <td>2</td>\n",
       "      <td>1</td>\n",
       "      <td>0</td>\n",
       "      <td>1</td>\n",
       "      <td>0</td>\n",
       "    </tr>\n",
       "  </tbody>\n",
       "</table>\n",
       "</div>"
      ],
      "text/plain": [
       "   cuddle  jump  I  nice  a  you  really  cute  like  cat  .  You  be  and  \\\n",
       "0       0     1  2     0  1    0       1     1     1    0  2    0   1    0   \n",
       "1       1     0  2     1  1    0       1     0     1    1  2    0   1    0   \n",
       "2       0     1  2     0  1    0       1     1     1    0  2    0   1    0   \n",
       "3       1     0  0     0  1    0       1     1     1    1  2    2   1    0   \n",
       "4       1     0  0     1  1    1       1     0     1    0  1    1   1    1   \n",
       "5       1     0  0     1  1    0       1     0     1    1  2    2   1    0   \n",
       "\n",
       "   to  dog  \n",
       "0   0    1  \n",
       "1   1    0  \n",
       "2   1    1  \n",
       "3   1    0  \n",
       "4   0    1  \n",
       "5   1    0  "
      ]
     },
     "execution_count": 224,
     "metadata": {},
     "output_type": "execute_result"
    }
   ],
   "source": [
    "texts_df = pandas.DataFrame.from_dict(words)\n",
    "texts_df.head(10)"
   ]
  },
  {
   "cell_type": "code",
   "execution_count": 541,
   "metadata": {
    "ExecuteTime": {
     "end_time": "2019-06-11T10:30:41.973576Z",
     "start_time": "2019-06-11T10:30:41.966969Z"
    }
   },
   "outputs": [],
   "source": [
    "vector = lambda index, df: df.iloc[index].tolist()"
   ]
  },
  {
   "cell_type": "code",
   "execution_count": 540,
   "metadata": {
    "ExecuteTime": {
     "end_time": "2019-06-11T10:30:31.625589Z",
     "start_time": "2019-06-11T10:30:31.615707Z"
    }
   },
   "outputs": [
    {
     "name": "stdout",
     "output_type": "stream",
     "text": [
      "Distance is 1.0.\n"
     ]
    },
    {
     "data": {
      "text/plain": [
       "1.0"
      ]
     },
     "execution_count": 540,
     "metadata": {},
     "output_type": "execute_result"
    }
   ],
   "source": [
    "euclidianDistance(vector(0, texts_df), vector(2, texts_df))"
   ]
  },
  {
   "cell_type": "code",
   "execution_count": 537,
   "metadata": {
    "ExecuteTime": {
     "end_time": "2019-06-11T10:29:39.051661Z",
     "start_time": "2019-06-11T10:29:39.043614Z"
    }
   },
   "outputs": [],
   "source": [
    "def buildCrossMatrix(texts_df,silent=True):\n",
    "    crossMatrix = { str(i): [] for  i in texts_df.index.tolist() }\n",
    "    for i in texts_df.index.tolist():\n",
    "        for z in texts_df.index.tolist():\n",
    "            distance = euclidianDistance(vector(i, texts_df), vector(z, texts_df), silent)\n",
    "            crossMatrix[str(i)].append(distance)\n",
    "    cross_df = pandas.DataFrame.from_dict(crossMatrix)\n",
    "    cross_df.head()\n",
    "    return cross_df"
   ]
  },
  {
   "cell_type": "code",
   "execution_count": 538,
   "metadata": {
    "ExecuteTime": {
     "end_time": "2019-06-11T10:29:45.135169Z",
     "start_time": "2019-06-11T10:29:45.094023Z"
    }
   },
   "outputs": [
    {
     "data": {
      "text/html": [
       "<div>\n",
       "<style scoped>\n",
       "    .dataframe tbody tr th:only-of-type {\n",
       "        vertical-align: middle;\n",
       "    }\n",
       "\n",
       "    .dataframe tbody tr th {\n",
       "        vertical-align: top;\n",
       "    }\n",
       "\n",
       "    .dataframe thead th {\n",
       "        text-align: right;\n",
       "    }\n",
       "</style>\n",
       "<table border=\"1\" class=\"dataframe\">\n",
       "  <thead>\n",
       "    <tr style=\"text-align: right;\">\n",
       "      <th></th>\n",
       "      <th>0</th>\n",
       "      <th>1</th>\n",
       "      <th>2</th>\n",
       "      <th>3</th>\n",
       "      <th>4</th>\n",
       "      <th>5</th>\n",
       "    </tr>\n",
       "  </thead>\n",
       "  <tbody>\n",
       "    <tr>\n",
       "      <th>0</th>\n",
       "      <td>0.000000</td>\n",
       "      <td>2.645751</td>\n",
       "      <td>1.000000</td>\n",
       "      <td>3.605551</td>\n",
       "      <td>3.464102</td>\n",
       "      <td>3.872983</td>\n",
       "    </tr>\n",
       "    <tr>\n",
       "      <th>1</th>\n",
       "      <td>2.645751</td>\n",
       "      <td>0.000000</td>\n",
       "      <td>2.449490</td>\n",
       "      <td>3.162278</td>\n",
       "      <td>3.316625</td>\n",
       "      <td>2.828427</td>\n",
       "    </tr>\n",
       "    <tr>\n",
       "      <th>2</th>\n",
       "      <td>1.000000</td>\n",
       "      <td>2.449490</td>\n",
       "      <td>0.000000</td>\n",
       "      <td>3.464102</td>\n",
       "      <td>3.605551</td>\n",
       "      <td>3.741657</td>\n",
       "    </tr>\n",
       "    <tr>\n",
       "      <th>3</th>\n",
       "      <td>3.605551</td>\n",
       "      <td>3.162278</td>\n",
       "      <td>3.464102</td>\n",
       "      <td>0.000000</td>\n",
       "      <td>3.000000</td>\n",
       "      <td>1.414214</td>\n",
       "    </tr>\n",
       "    <tr>\n",
       "      <th>4</th>\n",
       "      <td>3.464102</td>\n",
       "      <td>3.316625</td>\n",
       "      <td>3.605551</td>\n",
       "      <td>3.000000</td>\n",
       "      <td>0.000000</td>\n",
       "      <td>2.645751</td>\n",
       "    </tr>\n",
       "    <tr>\n",
       "      <th>5</th>\n",
       "      <td>3.872983</td>\n",
       "      <td>2.828427</td>\n",
       "      <td>3.741657</td>\n",
       "      <td>1.414214</td>\n",
       "      <td>2.645751</td>\n",
       "      <td>0.000000</td>\n",
       "    </tr>\n",
       "  </tbody>\n",
       "</table>\n",
       "</div>"
      ],
      "text/plain": [
       "          0         1         2         3         4         5\n",
       "0  0.000000  2.645751  1.000000  3.605551  3.464102  3.872983\n",
       "1  2.645751  0.000000  2.449490  3.162278  3.316625  2.828427\n",
       "2  1.000000  2.449490  0.000000  3.464102  3.605551  3.741657\n",
       "3  3.605551  3.162278  3.464102  0.000000  3.000000  1.414214\n",
       "4  3.464102  3.316625  3.605551  3.000000  0.000000  2.645751\n",
       "5  3.872983  2.828427  3.741657  1.414214  2.645751  0.000000"
      ]
     },
     "execution_count": 538,
     "metadata": {},
     "output_type": "execute_result"
    }
   ],
   "source": [
    "buildCrossMatrix(texts_df)"
   ]
  },
  {
   "cell_type": "code",
   "execution_count": 539,
   "metadata": {
    "ExecuteTime": {
     "end_time": "2019-06-11T10:29:48.596942Z",
     "start_time": "2019-06-11T10:29:48.484157Z"
    }
   },
   "outputs": [
    {
     "data": {
      "text/html": [
       "<div>\n",
       "<style scoped>\n",
       "    .dataframe tbody tr th:only-of-type {\n",
       "        vertical-align: middle;\n",
       "    }\n",
       "\n",
       "    .dataframe tbody tr th {\n",
       "        vertical-align: top;\n",
       "    }\n",
       "\n",
       "    .dataframe thead th {\n",
       "        text-align: right;\n",
       "    }\n",
       "</style>\n",
       "<table border=\"1\" class=\"dataframe\">\n",
       "  <thead>\n",
       "    <tr style=\"text-align: right;\">\n",
       "      <th></th>\n",
       "      <th>0</th>\n",
       "      <th>1</th>\n",
       "      <th>2</th>\n",
       "      <th>3</th>\n",
       "      <th>4</th>\n",
       "      <th>5</th>\n",
       "      <th>6</th>\n",
       "    </tr>\n",
       "  </thead>\n",
       "  <tbody>\n",
       "    <tr>\n",
       "      <th>0</th>\n",
       "      <td>0.000000</td>\n",
       "      <td>0.657647</td>\n",
       "      <td>0.911043</td>\n",
       "      <td>0.769740</td>\n",
       "      <td>0.447214</td>\n",
       "      <td>1.006231</td>\n",
       "      <td>0.100000</td>\n",
       "    </tr>\n",
       "    <tr>\n",
       "      <th>1</th>\n",
       "      <td>0.657647</td>\n",
       "      <td>0.000000</td>\n",
       "      <td>0.795299</td>\n",
       "      <td>0.604152</td>\n",
       "      <td>0.769740</td>\n",
       "      <td>0.768115</td>\n",
       "      <td>0.665207</td>\n",
       "    </tr>\n",
       "    <tr>\n",
       "      <th>2</th>\n",
       "      <td>0.911043</td>\n",
       "      <td>0.795299</td>\n",
       "      <td>0.000000</td>\n",
       "      <td>0.377492</td>\n",
       "      <td>0.714143</td>\n",
       "      <td>1.418626</td>\n",
       "      <td>0.871780</td>\n",
       "    </tr>\n",
       "    <tr>\n",
       "      <th>3</th>\n",
       "      <td>0.769740</td>\n",
       "      <td>0.604152</td>\n",
       "      <td>0.377492</td>\n",
       "      <td>0.000000</td>\n",
       "      <td>0.743303</td>\n",
       "      <td>1.301922</td>\n",
       "      <td>0.750000</td>\n",
       "    </tr>\n",
       "    <tr>\n",
       "      <th>4</th>\n",
       "      <td>0.447214</td>\n",
       "      <td>0.769740</td>\n",
       "      <td>0.714143</td>\n",
       "      <td>0.743303</td>\n",
       "      <td>0.000000</td>\n",
       "      <td>1.119151</td>\n",
       "      <td>0.360555</td>\n",
       "    </tr>\n",
       "    <tr>\n",
       "      <th>5</th>\n",
       "      <td>1.006231</td>\n",
       "      <td>0.768115</td>\n",
       "      <td>1.418626</td>\n",
       "      <td>1.301922</td>\n",
       "      <td>1.119151</td>\n",
       "      <td>0.000000</td>\n",
       "      <td>1.011187</td>\n",
       "    </tr>\n",
       "    <tr>\n",
       "      <th>6</th>\n",
       "      <td>0.100000</td>\n",
       "      <td>0.665207</td>\n",
       "      <td>0.871780</td>\n",
       "      <td>0.750000</td>\n",
       "      <td>0.360555</td>\n",
       "      <td>1.011187</td>\n",
       "      <td>0.000000</td>\n",
       "    </tr>\n",
       "  </tbody>\n",
       "</table>\n",
       "</div>"
      ],
      "text/plain": [
       "          0         1         2         3         4         5         6\n",
       "0  0.000000  0.657647  0.911043  0.769740  0.447214  1.006231  0.100000\n",
       "1  0.657647  0.000000  0.795299  0.604152  0.769740  0.768115  0.665207\n",
       "2  0.911043  0.795299  0.000000  0.377492  0.714143  1.418626  0.871780\n",
       "3  0.769740  0.604152  0.377492  0.000000  0.743303  1.301922  0.750000\n",
       "4  0.447214  0.769740  0.714143  0.743303  0.000000  1.119151  0.360555\n",
       "5  1.006231  0.768115  1.418626  1.301922  1.119151  0.000000  1.011187\n",
       "6  0.100000  0.665207  0.871780  0.750000  0.360555  1.011187  0.000000"
      ]
     },
     "execution_count": 539,
     "metadata": {},
     "output_type": "execute_result"
    }
   ],
   "source": [
    "buildCrossMatrix(PersonenDatensatz[['height', 'skin', 'hair', 'education', 'income', 'family']])"
   ]
  },
  {
   "cell_type": "markdown",
   "metadata": {},
   "source": [
    "## Autoren-Ähnlichkeit WIP"
   ]
  },
  {
   "cell_type": "code",
   "execution_count": 238,
   "metadata": {
    "ExecuteTime": {
     "end_time": "2019-06-09T19:55:26.071097Z",
     "start_time": "2019-06-09T19:55:26.060382Z"
    }
   },
   "outputs": [
    {
     "data": {
      "text/plain": [
       "{'1': 0, '2': 0, '3': 0, '4': 0, '5': 0, '6': 0}"
      ]
     },
     "execution_count": 238,
     "metadata": {},
     "output_type": "execute_result"
    }
   ],
   "source": [
    "word_length =  { str(i): 0 for i in range(1, max([ max([ len(token.lemma_) if token.lemma_ != '-PRON-' else len(token.orth_) for token in doc ]) for doc in docs ])+1)}\n",
    "word_length"
   ]
  },
  {
   "cell_type": "code",
   "execution_count": 241,
   "metadata": {
    "ExecuteTime": {
     "end_time": "2019-06-09T19:58:50.272594Z",
     "start_time": "2019-06-09T19:58:50.259313Z"
    }
   },
   "outputs": [
    {
     "data": {
      "text/plain": [
       "{'1': 5, '2': 1, '3': 1, '4': 3, '5': 0, '6': 1}"
      ]
     },
     "execution_count": 241,
     "metadata": {},
     "output_type": "execute_result"
    }
   ],
   "source": [
    "for token in docs[0]:\n",
    "    if token.lemma_ != '-PRON-':\n",
    "                 word_length[str(len(token.lemma_))] += 1\n",
    "    else:\n",
    "        word_length[str(len(token.orth_))] += 1\n",
    "word_length"
   ]
  },
  {
   "cell_type": "markdown",
   "metadata": {},
   "source": [
    "# Modules & Packages"
   ]
  },
  {
   "cell_type": "code",
   "execution_count": 5,
   "metadata": {
    "ExecuteTime": {
     "end_time": "2019-06-11T10:56:18.812551Z",
     "start_time": "2019-06-11T10:56:18.809010Z"
    }
   },
   "outputs": [],
   "source": [
    "import sys\n",
    "import importlib\n",
    "\n",
    "# Die Package-Ordner, e.g. distance, liegen im Ordner 'modules'. \n",
    "# Die Python-Code-Datei 'distances.py' liegt im Ordner 'distance'.\n",
    "# sys.path.append(r'./modules/')\n",
    "# print(sys.path)"
   ]
  },
  {
   "cell_type": "code",
   "execution_count": 6,
   "metadata": {
    "ExecuteTime": {
     "end_time": "2019-06-11T10:56:19.277091Z",
     "start_time": "2019-06-11T10:56:19.272715Z"
    }
   },
   "outputs": [],
   "source": [
    "# Aus dem Ordner 'distance' importiere die Datei 'distances'.\n",
    "from modules.distance import distances"
   ]
  },
  {
   "cell_type": "code",
   "execution_count": 7,
   "metadata": {
    "ExecuteTime": {
     "end_time": "2019-06-11T10:56:19.801656Z",
     "start_time": "2019-06-11T10:56:19.790459Z"
    }
   },
   "outputs": [],
   "source": [
    "importlib.reload(distances)\n",
    "distance = distances.Distance()"
   ]
  },
  {
   "cell_type": "code",
   "execution_count": 8,
   "metadata": {
    "ExecuteTime": {
     "end_time": "2019-06-11T10:56:20.385404Z",
     "start_time": "2019-06-11T10:56:20.369540Z"
    }
   },
   "outputs": [
    {
     "name": "stdout",
     "output_type": "stream",
     "text": [
      "Distance is 2.8284271247461903.\n"
     ]
    },
    {
     "data": {
      "text/plain": [
       "2.8284271247461903"
      ]
     },
     "execution_count": 8,
     "metadata": {},
     "output_type": "execute_result"
    }
   ],
   "source": [
    "distance.euclidianDistance([1, 2],[3,4])"
   ]
  },
  {
   "cell_type": "code",
   "execution_count": 9,
   "metadata": {
    "ExecuteTime": {
     "end_time": "2019-06-11T10:56:21.005277Z",
     "start_time": "2019-06-11T10:56:20.998209Z"
    }
   },
   "outputs": [
    {
     "name": "stdout",
     "output_type": "stream",
     "text": [
      "Hello, World!\n"
     ]
    }
   ],
   "source": [
    "distance.helloWorld()"
   ]
  },
  {
   "cell_type": "code",
   "execution_count": 10,
   "metadata": {
    "ExecuteTime": {
     "end_time": "2019-06-11T10:56:21.881399Z",
     "start_time": "2019-06-11T10:56:21.832311Z"
    }
   },
   "outputs": [],
   "source": [
    "?distance.euclidianDistance"
   ]
  }
 ],
 "metadata": {
  "kernelspec": {
   "display_name": "Python 3",
   "language": "python",
   "name": "python3"
  },
  "language_info": {
   "codemirror_mode": {
    "name": "ipython",
    "version": 3
   },
   "file_extension": ".py",
   "mimetype": "text/x-python",
   "name": "python",
   "nbconvert_exporter": "python",
   "pygments_lexer": "ipython3",
   "version": "3.7.3"
  },
  "toc": {
   "colors": {
    "hover_highlight": "#DAA520",
    "navigate_num": "#000000",
    "navigate_text": "#333333",
    "running_highlight": "#FF0000",
    "selected_highlight": "#FFD700",
    "sidebar_border": "#EEEEEE",
    "wrapper_background": "#FFFFFF"
   },
   "moveMenuLeft": true,
   "nav_menu": {
    "height": "228px",
    "width": "252px"
   },
   "navigate_menu": true,
   "number_sections": true,
   "sideBar": false,
   "threshold": 4,
   "toc_cell": true,
   "toc_section_display": "block",
   "toc_window_display": true,
   "widenNotebook": false
  }
 },
 "nbformat": 4,
 "nbformat_minor": 2
}
