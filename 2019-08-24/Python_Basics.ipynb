{
 "cells": [
  {
   "cell_type": "markdown",
   "metadata": {
    "toc": "true"
   },
   "source": [
    "# Table of Contents\n",
    " <p><div class=\"lev1 toc-item\"><a href=\"#Basics\" data-toc-modified-id=\"Basics-1\"><span class=\"toc-item-num\">1&nbsp;&nbsp;</span>Basics</a></div><div class=\"lev2 toc-item\"><a href=\"#Datentypen\" data-toc-modified-id=\"Datentypen-11\"><span class=\"toc-item-num\">1.1&nbsp;&nbsp;</span>Datentypen</a></div><div class=\"lev2 toc-item\"><a href=\"#Loops\" data-toc-modified-id=\"Loops-12\"><span class=\"toc-item-num\">1.2&nbsp;&nbsp;</span>Loops</a></div><div class=\"lev2 toc-item\"><a href=\"#List-und-Dict-Comprehensions\" data-toc-modified-id=\"List-und-Dict-Comprehensions-13\"><span class=\"toc-item-num\">1.3&nbsp;&nbsp;</span>List und Dict Comprehensions</a></div><div class=\"lev2 toc-item\"><a href=\"#Funktionen\" data-toc-modified-id=\"Funktionen-14\"><span class=\"toc-item-num\">1.4&nbsp;&nbsp;</span>Funktionen</a></div><div class=\"lev2 toc-item\"><a href=\"#Klassen-und-Objekte\" data-toc-modified-id=\"Klassen-und-Objekte-15\"><span class=\"toc-item-num\">1.5&nbsp;&nbsp;</span>Klassen und Objekte</a></div><div class=\"lev2 toc-item\"><a href=\"#Imports-und-Libraries\" data-toc-modified-id=\"Imports-und-Libraries-16\"><span class=\"toc-item-num\">1.6&nbsp;&nbsp;</span>Imports und Libraries</a></div><div class=\"lev1 toc-item\"><a href=\"#Grundlagen-NLP\" data-toc-modified-id=\"Grundlagen-NLP-2\"><span class=\"toc-item-num\">2&nbsp;&nbsp;</span>Grundlagen NLP</a></div>"
   ]
  },
  {
   "cell_type": "markdown",
   "metadata": {},
   "source": [
    "# Basics"
   ]
  },
  {
   "cell_type": "markdown",
   "metadata": {},
   "source": [
    "## Datentypen"
   ]
  },
  {
   "cell_type": "code",
   "execution_count": 2,
   "metadata": {
    "ExecuteTime": {
     "end_time": "2019-08-24T08:51:12.920083Z",
     "start_time": "2019-08-24T08:51:12.902554Z"
    }
   },
   "outputs": [],
   "source": [
    "# String (iterable, immutable)\n",
    "iAmAStringVariable = 'I am a string variable.'\n",
    "\n",
    "# Integer (not iterable, immutable)\n",
    "iAmAnInteger = 123\n",
    "\n",
    "# Float (not iterable, immutable)\n",
    "iAmAnFloat = 123.456\n",
    "\n",
    "# List (iterable, mutable, mixed)\n",
    "# Zugriff über den Offset-Index erfolgt über Eckige-Klammer-Notation \n",
    "iAmAList = [ 1, 2, 'string', 3.45, True ]\n",
    "iAmAList[0] # -> 1\n",
    "iAmAList[2] # -> 'string'\n",
    "\n",
    "# Tuple (iterable, immutable, mixed)\n",
    "# Tuple können Anzahl n Einträge haben; sie sind – anders als der Name vll. \n",
    "# suggeriert – nicht auf zwei Einträge beschränkt.\n",
    "# Zugriff über den Offset-Index erfolgt über Eckige-Klammer-Notation \n",
    "iAmATuple = ('Key', 123)\n",
    "iAmAQuintuple = ('Key', 123, True, 3.45, [])\n",
    "iAmAQuintuple[2] # -> True\n",
    "\n",
    "# Dictionary (iterable, mutable, mixed)\n",
    "# Ein Dictionary ist eine Liste von Schlüssel-Wert-Paaren.\n",
    "# Zugriff über den Schlüssel erfolgt über Eckige-Klammer-Notation\n",
    "iAmADictionary = { \n",
    "                    \"key_1\": \"value_2\",\n",
    "                    \"key_2\": 123,\n",
    "                    \"key_3\": [ 1, 2, 3 ]\n",
    "                }\n",
    "iAmADictionary['key_3'] # -> [ 1, 2, 3 ]\n",
    "\n",
    "# Bool (not iterable, immutable)\n",
    "iAmABoolean = False\n",
    "\n",
    "# Objects [class instances] (depends on implementation)\n",
    "#iAmAnObject = Object()"
   ]
  },
  {
   "cell_type": "markdown",
   "metadata": {},
   "source": [
    "## Loops"
   ]
  },
  {
   "cell_type": "code",
   "execution_count": 3,
   "metadata": {
    "ExecuteTime": {
     "end_time": "2019-08-24T08:51:14.229519Z",
     "start_time": "2019-08-24T08:51:14.191759Z"
    }
   },
   "outputs": [
    {
     "name": "stdout",
     "output_type": "stream",
     "text": [
      "Ich\n",
      "bin\n",
      "ein\n",
      "lustiger\n",
      "Affe.\n"
     ]
    }
   ],
   "source": [
    "sentence = 'Ich bin ein lustiger Affe.'\n",
    "\n",
    "for word in sentence.split():\n",
    "    print(word)"
   ]
  },
  {
   "cell_type": "code",
   "execution_count": 7,
   "metadata": {
    "ExecuteTime": {
     "end_time": "2019-08-24T08:57:41.555904Z",
     "start_time": "2019-08-24T08:57:41.541276Z"
    }
   },
   "outputs": [
    {
     "name": "stdout",
     "output_type": "stream",
     "text": [
      "I ==> 73\n",
      "c ==> 99\n",
      "h ==> 104\n",
      "  ==> 32\n",
      "b ==> 98\n",
      "i ==> 105\n",
      "n ==> 110\n",
      "  ==> 32\n",
      "e ==> 101\n",
      "i ==> 105\n",
      "n ==> 110\n",
      "  ==> 32\n",
      "l ==> 108\n",
      "u ==> 117\n",
      "s ==> 115\n",
      "t ==> 116\n",
      "i ==> 105\n",
      "g ==> 103\n",
      "e ==> 101\n",
      "r ==> 114\n",
      "  ==> 32\n",
      "A ==> 65\n",
      "f ==> 102\n",
      "f ==> 102\n",
      "e ==> 101\n",
      ". ==> 46\n"
     ]
    }
   ],
   "source": [
    "index = 0\n",
    "\n",
    "while index < len(sentence):\n",
    "    char = sentence[index]\n",
    "    print(f'{char} ==> {ord(char)}')\n",
    "    index += 1"
   ]
  },
  {
   "cell_type": "code",
   "execution_count": 20,
   "metadata": {
    "ExecuteTime": {
     "end_time": "2019-08-24T09:01:15.969751Z",
     "start_time": "2019-08-24T09:01:15.947952Z"
    }
   },
   "outputs": [
    {
     "name": "stdout",
     "output_type": "stream",
     "text": [
      "33 ==> !\n",
      "34 ==> \"\n",
      "35 ==> #\n",
      "36 ==> $\n",
      "37 ==> %\n",
      "38 ==> &\n",
      "39 ==> '\n",
      "40 ==> (\n",
      "41 ==> )\n",
      "42 ==> *\n",
      "43 ==> +\n",
      "44 ==> ,\n",
      "45 ==> -\n",
      "46 ==> .\n",
      "47 ==> /\n",
      "48 ==> 0\n",
      "49 ==> 1\n",
      "50 ==> 2\n",
      "51 ==> 3\n",
      "52 ==> 4\n",
      "53 ==> 5\n",
      "54 ==> 6\n",
      "55 ==> 7\n",
      "56 ==> 8\n",
      "57 ==> 9\n",
      "58 ==> :\n",
      "59 ==> ;\n",
      "60 ==> <\n",
      "61 ==> =\n",
      "62 ==> >\n",
      "63 ==> ?\n",
      "64 ==> @\n",
      "65 ==> A\n",
      "66 ==> B\n",
      "67 ==> C\n",
      "68 ==> D\n",
      "69 ==> E\n",
      "70 ==> F\n",
      "71 ==> G\n",
      "72 ==> H\n",
      "73 ==> I\n",
      "74 ==> J\n",
      "75 ==> K\n",
      "76 ==> L\n",
      "77 ==> M\n",
      "78 ==> N\n",
      "79 ==> O\n",
      "80 ==> P\n",
      "81 ==> Q\n",
      "82 ==> R\n",
      "83 ==> S\n",
      "84 ==> T\n",
      "85 ==> U\n",
      "86 ==> V\n",
      "87 ==> W\n",
      "88 ==> X\n",
      "89 ==> Y\n",
      "90 ==> Z\n",
      "91 ==> [\n",
      "92 ==> \\\n",
      "93 ==> ]\n",
      "94 ==> ^\n",
      "95 ==> _\n",
      "96 ==> `\n",
      "97 ==> a\n",
      "98 ==> b\n",
      "99 ==> c\n",
      "100 ==> d\n",
      "101 ==> e\n",
      "102 ==> f\n",
      "103 ==> g\n",
      "104 ==> h\n",
      "105 ==> i\n",
      "106 ==> j\n",
      "107 ==> k\n",
      "108 ==> l\n",
      "109 ==> m\n",
      "110 ==> n\n",
      "111 ==> o\n",
      "112 ==> p\n",
      "113 ==> q\n",
      "114 ==> r\n",
      "115 ==> s\n",
      "116 ==> t\n",
      "117 ==> u\n",
      "118 ==> v\n",
      "119 ==> w\n",
      "120 ==> x\n",
      "121 ==> y\n",
      "122 ==> z\n"
     ]
    }
   ],
   "source": [
    "for number in list(range(33,123)):\n",
    "    print(f'{number} ==> {chr(number)}')"
   ]
  },
  {
   "cell_type": "markdown",
   "metadata": {},
   "source": [
    "## List und Dict Comprehensions"
   ]
  },
  {
   "cell_type": "code",
   "execution_count": 21,
   "metadata": {
    "ExecuteTime": {
     "end_time": "2019-08-24T09:01:36.525897Z",
     "start_time": "2019-08-24T09:01:36.507225Z"
    }
   },
   "outputs": [
    {
     "data": {
      "text/plain": [
       "[3, 3, 6, 5, 7]"
      ]
     },
     "execution_count": 21,
     "metadata": {},
     "output_type": "execute_result"
    }
   ],
   "source": [
    "# Einfache List-Comprehension:\n",
    "# Merksatz: Transform( item ) for item in list.\n",
    "\n",
    "listOfWords = [ 'cat', 'dog', 'monkey', 'horse', 'chicken']\n",
    "\n",
    "[ len(item) for item in listOfWords ] # -> [ 3, 3, 6, 5, 7 ]"
   ]
  },
  {
   "cell_type": "code",
   "execution_count": 22,
   "metadata": {
    "ExecuteTime": {
     "end_time": "2019-08-24T09:01:53.557356Z",
     "start_time": "2019-08-24T09:01:53.547211Z"
    }
   },
   "outputs": [
    {
     "data": {
      "text/plain": [
       "[2, 4]"
      ]
     },
     "execution_count": 22,
     "metadata": {},
     "output_type": "execute_result"
    }
   ],
   "source": [
    "# Eine einfache If-Condition wird ans Ende der Expression gesetzt.\n",
    "\n",
    "[ item for item in [1,2,3,4,5] if item %2 == 0 ]"
   ]
  },
  {
   "cell_type": "code",
   "execution_count": 23,
   "metadata": {
    "ExecuteTime": {
     "end_time": "2019-08-24T09:02:00.039143Z",
     "start_time": "2019-08-24T09:02:00.029075Z"
    }
   },
   "outputs": [
    {
     "name": "stdout",
     "output_type": "stream",
     "text": [
      "1 hat einen Rest.\n",
      "2 hat keinen Rest.\n",
      "3 hat einen Rest.\n",
      "4 hat keinen Rest.\n",
      "5 hat einen Rest.\n"
     ]
    }
   ],
   "source": [
    "# Eine If-Else-Condition wird hingegen direkt hiner das erste Transformations-Element der Expression gesetzt.\n",
    "\n",
    "[ print(item, 'hat einen Rest.') if item %2 != 0 else print(item, 'hat keinen Rest.') for item in [1,2,3,4,5]  ];"
   ]
  },
  {
   "cell_type": "code",
   "execution_count": 24,
   "metadata": {
    "ExecuteTime": {
     "end_time": "2019-08-24T09:02:10.076065Z",
     "start_time": "2019-08-24T09:02:10.064270Z"
    }
   },
   "outputs": [
    {
     "data": {
      "text/plain": [
       "[['2'], ['4', '6'], ['8']]"
      ]
     },
     "execution_count": 24,
     "metadata": {},
     "output_type": "execute_result"
    }
   ],
   "source": [
    "# Wenn das Transformations-Element einer List-Comprehension wiederum selbst ein Iterable ist, \n",
    "# kann das Transformations-Element durch eine zweite, eingeschobene List-Comprehension ersetzt werden.\n",
    "# Aus Gründen von Lesbarkeit und Verständnis sollten verschachtelte List-Comprehensions mit bedacht \n",
    "# eingesetzt und gegebenenfalls (zum Teil) durch eundeutigere For-Loops ersetzt werden.\n",
    "\n",
    "[ [ str(i) for i in lst if i % 2 == 0 ]  for lst in [[1,2,3], [4,5,6], [7,8,9]] ]"
   ]
  },
  {
   "cell_type": "code",
   "execution_count": 25,
   "metadata": {
    "ExecuteTime": {
     "end_time": "2019-08-24T09:02:17.872019Z",
     "start_time": "2019-08-24T09:02:17.864602Z"
    }
   },
   "outputs": [
    {
     "data": {
      "text/plain": [
       "{'1': 0, '2': 0, '3': 0, '4': 0, '5': 0}"
      ]
     },
     "execution_count": 25,
     "metadata": {},
     "output_type": "execute_result"
    }
   ],
   "source": [
    "# Für Dict-Comprehensions gilt im Grunde das selbe wie für List-Comprehensions. Ausnamen sind, dass sie durch \n",
    "# geschweifte Klammern gerahmt werden und das Transformations-Element als Schlüssel-Wert-Paar aufgebaut sein muss.\n",
    "\n",
    "{ str(i): 0 for i in [1,2,3,4,5] }"
   ]
  },
  {
   "cell_type": "code",
   "execution_count": 26,
   "metadata": {
    "ExecuteTime": {
     "end_time": "2019-08-24T09:02:26.182743Z",
     "start_time": "2019-08-24T09:02:26.175282Z"
    }
   },
   "outputs": [
    {
     "data": {
      "text/plain": [
       "[('i', 1), ('j', 2)]"
      ]
     },
     "execution_count": 26,
     "metadata": {},
     "output_type": "execute_result"
    }
   ],
   "source": [
    "# Beispiele:\n",
    "# Ein Dictionary kann bspw. mittels einer List-Comprehension in eine Liste von Tuplen verwandelt werden.\n",
    "\n",
    "[ (i,j) for i,j in { \"i\": 1, \"j\": 2 }.items() ] # -> [ ( 'i', 1 ), ( 'j', 2 ) ]"
   ]
  },
  {
   "cell_type": "code",
   "execution_count": 27,
   "metadata": {
    "ExecuteTime": {
     "end_time": "2019-08-24T09:02:32.976821Z",
     "start_time": "2019-08-24T09:02:32.970577Z"
    }
   },
   "outputs": [
    {
     "data": {
      "text/plain": [
       "[('x', 'y'), ('a', 'b')]"
      ]
     },
     "execution_count": 27,
     "metadata": {},
     "output_type": "execute_result"
    }
   ],
   "source": [
    "# Permutation der Elemente einer Liste von Tupeln.\n",
    "\n",
    "[ (j,i) for i,j in [ ( 'y', 'x' ), ( 'b', 'a' ) ] ] # -> [('x', 'y'), ('a', 'b')]"
   ]
  },
  {
   "cell_type": "markdown",
   "metadata": {},
   "source": [
    "## Funktionen"
   ]
  },
  {
   "cell_type": "code",
   "execution_count": 28,
   "metadata": {
    "ExecuteTime": {
     "end_time": "2019-08-24T09:02:50.119561Z",
     "start_time": "2019-08-24T09:02:50.099174Z"
    }
   },
   "outputs": [
    {
     "name": "stdout",
     "output_type": "stream",
     "text": [
      "Hello!\n"
     ]
    },
    {
     "data": {
      "text/plain": [
       "'Hello!'"
      ]
     },
     "execution_count": 28,
     "metadata": {},
     "output_type": "execute_result"
    }
   ],
   "source": [
    "# Benannte Funktionen werden mit dem Schlüsselwort def eingeleitet, es folgt der Funktionsname und \n",
    "# in runden Klammern gegebenenfalls eine Liste von Parametern, welche beim Aufruf als Argumente \n",
    "# übergeben werden können.\n",
    "\n",
    "def Hello():\n",
    "    \"\"\"I am a Hello func.\"\"\"\n",
    "    print('Hello!')\n",
    "    return \"Hello!\"\n",
    "\n",
    "Hello()"
   ]
  },
  {
   "cell_type": "code",
   "execution_count": 29,
   "metadata": {
    "ExecuteTime": {
     "end_time": "2019-08-24T09:02:57.946358Z",
     "start_time": "2019-08-24T09:02:57.936629Z"
    }
   },
   "outputs": [
    {
     "name": "stdout",
     "output_type": "stream",
     "text": [
      "Hello!\n",
      "Live long and prosper!\n"
     ]
    },
    {
     "data": {
      "text/plain": [
       "'Live long and prosper!'"
      ]
     },
     "execution_count": 29,
     "metadata": {},
     "output_type": "execute_result"
    }
   ],
   "source": [
    "# Parameter können mit einem Default-Wert angegeben werden.\n",
    "\n",
    "def Greet(greeting='Hello'):\n",
    "    \"\"\"I am a Greet func.\"\"\"\n",
    "    print(f'{greeting}!')\n",
    "    return f'{greeting}!'\n",
    "\n",
    "Greet()\n",
    "Greet('Live long and prosper')"
   ]
  },
  {
   "cell_type": "code",
   "execution_count": 30,
   "metadata": {
    "ExecuteTime": {
     "end_time": "2019-08-24T09:03:16.191701Z",
     "start_time": "2019-08-24T09:03:16.185768Z"
    }
   },
   "outputs": [
    {
     "data": {
      "text/plain": [
       "'Hello, George!'"
      ]
     },
     "execution_count": 30,
     "metadata": {},
     "output_type": "execute_result"
    }
   ],
   "source": [
    "# Eine anonyme oder Lambda-Funktion muss auf einer einzigen Zeile geschrieben werden – es sind also keine Loops- \n",
    "# oder mehrzeilige Konstrukte möglich. Eine Lambda-Funktion wird durch das Schlüsselwort lambda eingeleitet, es folgen\n",
    "# die Parameter; ein Doppelpunkt trennt den folgenden Rückgabewert ab. Eine Lambda-Funktion besteht also nur aus\n",
    "# Argumenten und einer Expression, die als Rückgabewert während der Rückgabe evaluiert wird. Damit die Funktion \n",
    "# mit einem Namen aufgerufen werden kann, muss sie in einer Variablen gespeichert werden.\n",
    "\n",
    "func = lambda name: f'Hello, {name}!'\n",
    "func('George')"
   ]
  },
  {
   "cell_type": "code",
   "execution_count": 31,
   "metadata": {
    "ExecuteTime": {
     "end_time": "2019-08-24T09:03:25.717418Z",
     "start_time": "2019-08-24T09:03:25.711229Z"
    }
   },
   "outputs": [
    {
     "data": {
      "text/plain": [
       "'Hello, Timmy'"
      ]
     },
     "execution_count": 31,
     "metadata": {},
     "output_type": "execute_result"
    }
   ],
   "source": [
    "# Soll die Lambda-Funktion an Ort udn Stelle evaluiert werden, muss der Funktionskörper in runde Klammern \n",
    "# gepackt und mit direkt folgenden runden Klammern direkt mit Parametern aufgerufen werden.\n",
    "\n",
    "( lambda name: f'Hello, {name}' )('Timmy')"
   ]
  },
  {
   "cell_type": "code",
   "execution_count": 32,
   "metadata": {
    "ExecuteTime": {
     "end_time": "2019-08-24T09:03:33.619118Z",
     "start_time": "2019-08-24T09:03:33.610136Z"
    }
   },
   "outputs": [
    {
     "name": "stdout",
     "output_type": "stream",
     "text": [
      "Hello, George!\n",
      "Good Morning, George!\n",
      "Bye, George!\n"
     ]
    }
   ],
   "source": [
    "# Currying bedeutet, dass eine Funktion eine weitere, bereits teilweise mit Argumenten befüllte Funktion zurückgibt. \n",
    "# Auf diese Weise können Funktionen mit Default-Werten 'vorgeladen' werden. \n",
    "\n",
    "def Greet(phrase):\n",
    "    return lambda name: print(f'{phrase}, {name}!')\n",
    "\n",
    "Hello = Greet('Hello')\n",
    "GoodMorning = Greet('Good Morning')\n",
    "Bye = Greet('Bye')\n",
    "\n",
    "Hello('George')\n",
    "GoodMorning('George')\n",
    "Bye('George')\n"
   ]
  },
  {
   "cell_type": "markdown",
   "metadata": {
    "ExecuteTime": {
     "end_time": "2019-08-24T09:04:32.197760Z",
     "start_time": "2019-08-24T09:04:32.185323Z"
    }
   },
   "source": [
    "## Klassen und Objekte\n",
    "\n",
    "Klassen sind Blaupausen die Entitäten der realen Welt schematisch und reduziert in Programmiersprachen abbilden. Klassen dienen dabei dazu Daten und Methoden, die diese Daten verarbeiten, zusammenfassen zu können. Will man eine Bibliothek modellierne, könnte jedes Buch als Klasse _Buch_ formalisiert werden. Die Klasse würde Attribute (Merkmale) wie _Buchtitel_, _ISBN_, _ausgeliehen_, u.a.m. enthalten. Methoden, also in der Klasse definierte Funktionen, könnten die Attribute ausgeben und/oder verändern, e.g. die Methode _Ausleihstatus_ würde einen String wie `f'Ausgeliehen: {self.ausgeliehen}.'` zurückgeben. \n",
    "\n",
    "Mehr zu OOP in Python, [hier](https://realpython.com/python3-object-oriented-programming/)."
   ]
  },
  {
   "cell_type": "code",
   "execution_count": 44,
   "metadata": {
    "ExecuteTime": {
     "end_time": "2019-08-24T09:14:44.287613Z",
     "start_time": "2019-08-24T09:14:44.271151Z"
    }
   },
   "outputs": [],
   "source": [
    "class Monkey:\n",
    "    def __init__(self, name, color, favorite_foods):\n",
    "        self.name = name\n",
    "        self.color = color\n",
    "        self.cuteness = 'Over 9000!'\n",
    "        self.favorite_foods = favorite_foods\n",
    "        \n",
    "    def __repr__(self):\n",
    "        return f'Monkey {self.name}'\n",
    "\n",
    "    def __str__(self):\n",
    "        return f'I am a monkey names {self.name} and my favorte foods are {\", \".join(self.favorite_foods)}.'\n",
    "    \n",
    "    # Getter\n",
    "    @property\n",
    "    def favorite_foods(self):\n",
    "        return self.__favorite_foods\n",
    "    \n",
    "    # Setter\n",
    "    @favorite_foods.setter\n",
    "    def favorite_foods(self, favorite_foods):\n",
    "        if type(favorite_foods) == list or type(favorite_foods) == tuple:\n",
    "            self.__favorite_foods = favorite_foods\n",
    "        elif type(favorite_foods) == str:\n",
    "            self.__favorite_foods = [favorite_foods]\n",
    "        else:\n",
    "            print('Error: fav foods not set.')\n",
    "            self.__favorite_foods = ['none yet']"
   ]
  },
  {
   "cell_type": "code",
   "execution_count": 45,
   "metadata": {
    "ExecuteTime": {
     "end_time": "2019-08-24T09:14:45.152404Z",
     "start_time": "2019-08-24T09:14:45.146870Z"
    }
   },
   "outputs": [],
   "source": [
    "george = Monkey('George', 'red', ['Bananas', 'Pizza'])"
   ]
  },
  {
   "cell_type": "code",
   "execution_count": 46,
   "metadata": {
    "ExecuteTime": {
     "end_time": "2019-08-24T09:14:45.666835Z",
     "start_time": "2019-08-24T09:14:45.657537Z"
    }
   },
   "outputs": [
    {
     "data": {
      "text/plain": [
       "Monkey George"
      ]
     },
     "execution_count": 46,
     "metadata": {},
     "output_type": "execute_result"
    }
   ],
   "source": [
    "george # Gives __repr__"
   ]
  },
  {
   "cell_type": "code",
   "execution_count": 47,
   "metadata": {
    "ExecuteTime": {
     "end_time": "2019-08-24T09:14:46.365711Z",
     "start_time": "2019-08-24T09:14:46.361468Z"
    }
   },
   "outputs": [
    {
     "name": "stdout",
     "output_type": "stream",
     "text": [
      "I am a monkey names George and my favorte foods are Bananas, Pizza.\n"
     ]
    }
   ],
   "source": [
    "print(george) # Gives __str__"
   ]
  },
  {
   "cell_type": "code",
   "execution_count": 48,
   "metadata": {
    "ExecuteTime": {
     "end_time": "2019-08-24T09:14:46.945504Z",
     "start_time": "2019-08-24T09:14:46.938932Z"
    }
   },
   "outputs": [
    {
     "name": "stdout",
     "output_type": "stream",
     "text": [
      "I am a monkey names Evelyn and my favorte foods are Pudding.\n"
     ]
    }
   ],
   "source": [
    "evelyn = Monkey('Evelyn', 'yellow', 'Pudding')\n",
    "print(evelyn)"
   ]
  },
  {
   "cell_type": "code",
   "execution_count": 49,
   "metadata": {
    "ExecuteTime": {
     "end_time": "2019-08-24T09:14:47.741704Z",
     "start_time": "2019-08-24T09:14:47.734485Z"
    }
   },
   "outputs": [
    {
     "name": "stdout",
     "output_type": "stream",
     "text": [
      "Error: fav foods not set.\n",
      "I am a monkey names Toby and my favorte foods are none yet.\n"
     ]
    }
   ],
   "source": [
    "wrongType = Monkey('Toby', 'green', 123)\n",
    "print(wrongType)"
   ]
  },
  {
   "cell_type": "markdown",
   "metadata": {},
   "source": [
    "## Imports und Libraries"
   ]
  },
  {
   "cell_type": "code",
   "execution_count": 50,
   "metadata": {
    "ExecuteTime": {
     "end_time": "2019-08-24T09:15:50.182592Z",
     "start_time": "2019-08-24T09:15:44.808555Z"
    }
   },
   "outputs": [],
   "source": [
    "import spacy\n",
    "import requests\n",
    "import pandas as pd"
   ]
  },
  {
   "cell_type": "markdown",
   "metadata": {
    "ExecuteTime": {
     "end_time": "2019-08-24T09:16:24.428316Z",
     "start_time": "2019-08-24T09:16:24.423129Z"
    }
   },
   "source": [
    "# Grundlagen NLP"
   ]
  },
  {
   "cell_type": "code",
   "execution_count": null,
   "metadata": {},
   "outputs": [],
   "source": []
  }
 ],
 "metadata": {
  "kernelspec": {
   "display_name": "Python 3",
   "language": "python",
   "name": "python3"
  },
  "language_info": {
   "codemirror_mode": {
    "name": "ipython",
    "version": 3
   },
   "file_extension": ".py",
   "mimetype": "text/x-python",
   "name": "python",
   "nbconvert_exporter": "python",
   "pygments_lexer": "ipython3",
   "version": "3.7.3"
  },
  "toc": {
   "colors": {
    "hover_highlight": "#DAA520",
    "navigate_num": "#000000",
    "navigate_text": "#333333",
    "running_highlight": "#FF0000",
    "selected_highlight": "#FFD700",
    "sidebar_border": "#EEEEEE",
    "wrapper_background": "#FFFFFF"
   },
   "moveMenuLeft": true,
   "nav_menu": {
    "height": "156px",
    "width": "252px"
   },
   "navigate_menu": true,
   "number_sections": true,
   "sideBar": false,
   "threshold": 4,
   "toc_cell": true,
   "toc_section_display": "block",
   "toc_window_display": true,
   "widenNotebook": false
  }
 },
 "nbformat": 4,
 "nbformat_minor": 2
}
