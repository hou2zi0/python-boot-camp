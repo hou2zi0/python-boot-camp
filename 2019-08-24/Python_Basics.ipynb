{
 "cells": [
  {
   "cell_type": "markdown",
   "metadata": {
    "toc": "true"
   },
   "source": [
    "# Table of Contents\n",
    " <p><div class=\"lev1 toc-item\"><a href=\"#Basics\" data-toc-modified-id=\"Basics-1\"><span class=\"toc-item-num\">1&nbsp;&nbsp;</span>Basics</a></div><div class=\"lev2 toc-item\"><a href=\"#Datentypen\" data-toc-modified-id=\"Datentypen-11\"><span class=\"toc-item-num\">1.1&nbsp;&nbsp;</span>Datentypen</a></div><div class=\"lev2 toc-item\"><a href=\"#Loops\" data-toc-modified-id=\"Loops-12\"><span class=\"toc-item-num\">1.2&nbsp;&nbsp;</span>Loops</a></div><div class=\"lev2 toc-item\"><a href=\"#Conditionals\" data-toc-modified-id=\"Conditionals-13\"><span class=\"toc-item-num\">1.3&nbsp;&nbsp;</span>Conditionals</a></div><div class=\"lev2 toc-item\"><a href=\"#List-und-Dict-Comprehensions\" data-toc-modified-id=\"List-und-Dict-Comprehensions-14\"><span class=\"toc-item-num\">1.4&nbsp;&nbsp;</span>List und Dict Comprehensions</a></div><div class=\"lev2 toc-item\"><a href=\"#Funktionen\" data-toc-modified-id=\"Funktionen-15\"><span class=\"toc-item-num\">1.5&nbsp;&nbsp;</span>Funktionen</a></div><div class=\"lev2 toc-item\"><a href=\"#Klassen-und-Objekte\" data-toc-modified-id=\"Klassen-und-Objekte-16\"><span class=\"toc-item-num\">1.6&nbsp;&nbsp;</span>Klassen und Objekte</a></div><div class=\"lev2 toc-item\"><a href=\"#Imports-und-Libraries\" data-toc-modified-id=\"Imports-und-Libraries-17\"><span class=\"toc-item-num\">1.7&nbsp;&nbsp;</span>Imports und Libraries</a></div><div class=\"lev1 toc-item\"><a href=\"#Grundlagen-NLP\" data-toc-modified-id=\"Grundlagen-NLP-2\"><span class=\"toc-item-num\">2&nbsp;&nbsp;</span>Grundlagen NLP</a></div><div class=\"lev2 toc-item\"><a href=\"#Imports-und-Module\" data-toc-modified-id=\"Imports-und-Module-21\"><span class=\"toc-item-num\">2.1&nbsp;&nbsp;</span>Imports und Module</a></div><div class=\"lev3 toc-item\"><a href=\"#Importe\" data-toc-modified-id=\"Importe-211\"><span class=\"toc-item-num\">2.1.1&nbsp;&nbsp;</span>Importe</a></div><div class=\"lev3 toc-item\"><a href=\"#Module\" data-toc-modified-id=\"Module-212\"><span class=\"toc-item-num\">2.1.2&nbsp;&nbsp;</span>Module</a></div><div class=\"lev2 toc-item\"><a href=\"#NLP\" data-toc-modified-id=\"NLP-22\"><span class=\"toc-item-num\">2.2&nbsp;&nbsp;</span>NLP</a></div>"
   ]
  },
  {
   "cell_type": "markdown",
   "metadata": {},
   "source": [
    "# Basics"
   ]
  },
  {
   "cell_type": "markdown",
   "metadata": {},
   "source": [
    "## Datentypen"
   ]
  },
  {
   "cell_type": "code",
   "execution_count": 2,
   "metadata": {
    "ExecuteTime": {
     "end_time": "2019-08-24T08:51:12.920083Z",
     "start_time": "2019-08-24T08:51:12.902554Z"
    }
   },
   "outputs": [],
   "source": [
    "# String (iterable, immutable)\n",
    "iAmAStringVariable = 'I am a string variable.'\n",
    "\n",
    "# Integer (not iterable, immutable)\n",
    "iAmAnInteger = 123\n",
    "\n",
    "# Float (not iterable, immutable)\n",
    "iAmAnFloat = 123.456\n",
    "\n",
    "# List (iterable, mutable, mixed)\n",
    "# Zugriff über den Offset-Index erfolgt über Eckige-Klammer-Notation \n",
    "iAmAList = [ 1, 2, 'string', 3.45, True ]\n",
    "iAmAList[0] # -> 1\n",
    "iAmAList[2] # -> 'string'\n",
    "\n",
    "# Tuple (iterable, immutable, mixed)\n",
    "# Tuple können Anzahl n Einträge haben; sie sind – anders als der Name vll. \n",
    "# suggeriert – nicht auf zwei Einträge beschränkt.\n",
    "# Zugriff über den Offset-Index erfolgt über Eckige-Klammer-Notation \n",
    "iAmATuple = ('Key', 123)\n",
    "iAmAQuintuple = ('Key', 123, True, 3.45, [])\n",
    "iAmAQuintuple[2] # -> True\n",
    "\n",
    "# Dictionary (iterable, mutable, mixed)\n",
    "# Ein Dictionary ist eine Liste von Schlüssel-Wert-Paaren.\n",
    "# Zugriff über den Schlüssel erfolgt über Eckige-Klammer-Notation\n",
    "iAmADictionary = { \n",
    "                    \"key_1\": \"value_2\",\n",
    "                    \"key_2\": 123,\n",
    "                    \"key_3\": [ 1, 2, 3 ]\n",
    "                }\n",
    "iAmADictionary['key_3'] # -> [ 1, 2, 3 ]\n",
    "\n",
    "# Bool (not iterable, immutable)\n",
    "iAmABoolean = False\n",
    "\n",
    "# Objects [class instances] (depends on implementation)\n",
    "#iAmAnObject = Object()"
   ]
  },
  {
   "cell_type": "code",
   "execution_count": 12,
   "metadata": {
    "ExecuteTime": {
     "end_time": "2019-08-24T14:00:36.878106Z",
     "start_time": "2019-08-24T14:00:36.868399Z"
    }
   },
   "outputs": [],
   "source": [
    "topic_lookup = {\n",
    "    \"101001\": \"Magic\",\n",
    "    \"101002\": \"Spellcraft\",\n",
    "    \"111001\": \"Sex\"\n",
    "} \n",
    "\n",
    "book = {\n",
    "    \"title\": \"Faust\",\n",
    "    \"writer\": {\n",
    "        \"name\": \"J.W. v. Goethe\",\n",
    "        \"gender\": \"male\"\n",
    "              },\n",
    "    \"topics\": [\n",
    "        \"101001\", \n",
    "        \"111001\"\n",
    "    ]\n",
    "}"
   ]
  },
  {
   "cell_type": "code",
   "execution_count": 14,
   "metadata": {
    "ExecuteTime": {
     "end_time": "2019-08-24T14:16:11.899752Z",
     "start_time": "2019-08-24T14:16:11.893541Z"
    }
   },
   "outputs": [
    {
     "data": {
      "text/plain": [
       "'Sex'"
      ]
     },
     "execution_count": 14,
     "metadata": {},
     "output_type": "execute_result"
    }
   ],
   "source": [
    "topic_lookup[\n",
    "    book['topics'][1]\n",
    "]"
   ]
  },
  {
   "cell_type": "markdown",
   "metadata": {},
   "source": [
    "## Loops"
   ]
  },
  {
   "cell_type": "code",
   "execution_count": 17,
   "metadata": {
    "ExecuteTime": {
     "end_time": "2019-08-24T14:23:04.466264Z",
     "start_time": "2019-08-24T14:23:04.458178Z"
    }
   },
   "outputs": [
    {
     "name": "stdout",
     "output_type": "stream",
     "text": [
      "Ich\n",
      "Immer noch im Loop!\n",
      "bin\n",
      "Immer noch im Loop!\n",
      "ein\n",
      "Immer noch im Loop!\n",
      "lustiger\n",
      "Immer noch im Loop!\n",
      "Affe.\n",
      "Immer noch im Loop!\n",
      "Fertig!\n"
     ]
    }
   ],
   "source": [
    "sentence = 'Ich bin ein lustiger Affe.'\n",
    "\n",
    "for word in sentence.split(' '):\n",
    "    print(word)\n",
    "    print('Immer noch im Loop!')\n",
    "print('Fertig!')"
   ]
  },
  {
   "cell_type": "code",
   "execution_count": 28,
   "metadata": {
    "ExecuteTime": {
     "end_time": "2019-08-24T14:45:57.923645Z",
     "start_time": "2019-08-24T14:45:57.914274Z"
    }
   },
   "outputs": [
    {
     "name": "stdout",
     "output_type": "stream",
     "text": [
      "Ich\n",
      "\tI – c – h\n",
      "bin\n",
      "\tb – i – n\n",
      "ein\n",
      "\te – i – n\n",
      "lustiger\n",
      "\tl – u – s – t – i – g – e – r\n",
      "Affe.\n",
      "\tA – f – f – e – .\n"
     ]
    }
   ],
   "source": [
    "sentence = 'Ich bin ein lustiger Affe.'\n",
    "\n",
    "for word in sentence.split(' '):\n",
    "    print(word)\n",
    "    part = []\n",
    "    for char in word:\n",
    "        part.append(char)\n",
    "    print(f'\\t{\" – \".join(part)}')"
   ]
  },
  {
   "cell_type": "code",
   "execution_count": 22,
   "metadata": {
    "ExecuteTime": {
     "end_time": "2019-08-24T14:28:53.746491Z",
     "start_time": "2019-08-24T14:28:53.740781Z"
    }
   },
   "outputs": [
    {
     "name": "stdout",
     "output_type": "stream",
     "text": [
      "101001 => Magic\n",
      "101002 => Spellcraft\n",
      "111001 => Sex\n"
     ]
    }
   ],
   "source": [
    "for key in topic_lookup.keys():\n",
    "    #print(key + ' => ' + topic_lookup[key])\n",
    "    print(f'{key} => {topic_lookup[key]}')"
   ]
  },
  {
   "cell_type": "code",
   "execution_count": 7,
   "metadata": {
    "ExecuteTime": {
     "end_time": "2019-08-24T08:57:41.555904Z",
     "start_time": "2019-08-24T08:57:41.541276Z"
    }
   },
   "outputs": [
    {
     "name": "stdout",
     "output_type": "stream",
     "text": [
      "I ==> 73\n",
      "c ==> 99\n",
      "h ==> 104\n",
      "  ==> 32\n",
      "b ==> 98\n",
      "i ==> 105\n",
      "n ==> 110\n",
      "  ==> 32\n",
      "e ==> 101\n",
      "i ==> 105\n",
      "n ==> 110\n",
      "  ==> 32\n",
      "l ==> 108\n",
      "u ==> 117\n",
      "s ==> 115\n",
      "t ==> 116\n",
      "i ==> 105\n",
      "g ==> 103\n",
      "e ==> 101\n",
      "r ==> 114\n",
      "  ==> 32\n",
      "A ==> 65\n",
      "f ==> 102\n",
      "f ==> 102\n",
      "e ==> 101\n",
      ". ==> 46\n"
     ]
    }
   ],
   "source": [
    "index = 0\n",
    "\n",
    "while index < len(sentence):\n",
    "    char = sentence[index]\n",
    "    print(f'{char} ==> {ord(char)}')\n",
    "    index += 1"
   ]
  },
  {
   "cell_type": "code",
   "execution_count": 20,
   "metadata": {
    "ExecuteTime": {
     "end_time": "2019-08-24T09:01:15.969751Z",
     "start_time": "2019-08-24T09:01:15.947952Z"
    }
   },
   "outputs": [
    {
     "name": "stdout",
     "output_type": "stream",
     "text": [
      "33 ==> !\n",
      "34 ==> \"\n",
      "35 ==> #\n",
      "36 ==> $\n",
      "37 ==> %\n",
      "38 ==> &\n",
      "39 ==> '\n",
      "40 ==> (\n",
      "41 ==> )\n",
      "42 ==> *\n",
      "43 ==> +\n",
      "44 ==> ,\n",
      "45 ==> -\n",
      "46 ==> .\n",
      "47 ==> /\n",
      "48 ==> 0\n",
      "49 ==> 1\n",
      "50 ==> 2\n",
      "51 ==> 3\n",
      "52 ==> 4\n",
      "53 ==> 5\n",
      "54 ==> 6\n",
      "55 ==> 7\n",
      "56 ==> 8\n",
      "57 ==> 9\n",
      "58 ==> :\n",
      "59 ==> ;\n",
      "60 ==> <\n",
      "61 ==> =\n",
      "62 ==> >\n",
      "63 ==> ?\n",
      "64 ==> @\n",
      "65 ==> A\n",
      "66 ==> B\n",
      "67 ==> C\n",
      "68 ==> D\n",
      "69 ==> E\n",
      "70 ==> F\n",
      "71 ==> G\n",
      "72 ==> H\n",
      "73 ==> I\n",
      "74 ==> J\n",
      "75 ==> K\n",
      "76 ==> L\n",
      "77 ==> M\n",
      "78 ==> N\n",
      "79 ==> O\n",
      "80 ==> P\n",
      "81 ==> Q\n",
      "82 ==> R\n",
      "83 ==> S\n",
      "84 ==> T\n",
      "85 ==> U\n",
      "86 ==> V\n",
      "87 ==> W\n",
      "88 ==> X\n",
      "89 ==> Y\n",
      "90 ==> Z\n",
      "91 ==> [\n",
      "92 ==> \\\n",
      "93 ==> ]\n",
      "94 ==> ^\n",
      "95 ==> _\n",
      "96 ==> `\n",
      "97 ==> a\n",
      "98 ==> b\n",
      "99 ==> c\n",
      "100 ==> d\n",
      "101 ==> e\n",
      "102 ==> f\n",
      "103 ==> g\n",
      "104 ==> h\n",
      "105 ==> i\n",
      "106 ==> j\n",
      "107 ==> k\n",
      "108 ==> l\n",
      "109 ==> m\n",
      "110 ==> n\n",
      "111 ==> o\n",
      "112 ==> p\n",
      "113 ==> q\n",
      "114 ==> r\n",
      "115 ==> s\n",
      "116 ==> t\n",
      "117 ==> u\n",
      "118 ==> v\n",
      "119 ==> w\n",
      "120 ==> x\n",
      "121 ==> y\n",
      "122 ==> z\n"
     ]
    }
   ],
   "source": [
    "for number in list(range(33,123)):\n",
    "    print(f'{number} ==> {chr(number)}')"
   ]
  },
  {
   "cell_type": "markdown",
   "metadata": {},
   "source": [
    "## Conditionals"
   ]
  },
  {
   "cell_type": "code",
   "execution_count": 37,
   "metadata": {
    "ExecuteTime": {
     "end_time": "2019-08-24T14:56:12.934485Z",
     "start_time": "2019-08-24T14:56:12.924483Z"
    }
   },
   "outputs": [
    {
     "name": "stdout",
     "output_type": "stream",
     "text": [
      "Affenstark!\n",
      "“Affe” found in “Ich bin ein Affe.”!\n"
     ]
    }
   ],
   "source": [
    "Sentence = \"Ich bin ein Affe.\"\n",
    "Word = \"Affe\"\n",
    "\n",
    "if \"Affe\" in Sentence:\n",
    "    print(f'Affenstark!')\n",
    "if Word in Sentence:\n",
    "    print(f'“{Word}” found in “{Sentence}”!')\n",
    "else:\n",
    "    print(f'“{Word}” not found in “{Sentence}”!')"
   ]
  },
  {
   "cell_type": "markdown",
   "metadata": {},
   "source": [
    "## List und Dict Comprehensions"
   ]
  },
  {
   "cell_type": "code",
   "execution_count": 39,
   "metadata": {
    "ExecuteTime": {
     "end_time": "2019-08-24T14:58:35.146349Z",
     "start_time": "2019-08-24T14:58:35.136696Z"
    }
   },
   "outputs": [
    {
     "data": {
      "text/plain": [
       "['CAT', 'DOG', 'MONKEY', 'HORSE', 'CHICKEN']"
      ]
     },
     "execution_count": 39,
     "metadata": {},
     "output_type": "execute_result"
    }
   ],
   "source": [
    "# Einfache List-Comprehension:\n",
    "# Merksatz: Transform( item ) for item in list.\n",
    "\n",
    "listOfWords = [ 'cat', 'dog', 'monkey', 'horse', 'chicken']\n",
    "\n",
    "[ item.upper() for item in listOfWords ] # -> [ 3, 3, 6, 5, 7 ]"
   ]
  },
  {
   "cell_type": "code",
   "execution_count": 22,
   "metadata": {
    "ExecuteTime": {
     "end_time": "2019-08-24T09:01:53.557356Z",
     "start_time": "2019-08-24T09:01:53.547211Z"
    }
   },
   "outputs": [
    {
     "data": {
      "text/plain": [
       "[2, 4]"
      ]
     },
     "execution_count": 22,
     "metadata": {},
     "output_type": "execute_result"
    }
   ],
   "source": [
    "# Eine einfache If-Condition wird ans Ende der Expression gesetzt.\n",
    "# In JavaScript Filter/Reduce.\n",
    "\n",
    "[ item for item in [1,2,3,4,5] if item %2 == 0 ]"
   ]
  },
  {
   "cell_type": "code",
   "execution_count": 43,
   "metadata": {
    "ExecuteTime": {
     "end_time": "2019-08-24T15:08:15.483294Z",
     "start_time": "2019-08-24T15:08:15.476838Z"
    }
   },
   "outputs": [
    {
     "name": "stdout",
     "output_type": "stream",
     "text": [
      "[{'name': 'Beate', 'gender': 'female'}, {'name': 'Mira', 'gender': 'female'}]\n"
     ]
    }
   ],
   "source": [
    "lst = [\n",
    "    {\n",
    "        \"name\": \"Kurt\",\n",
    "        \"gender\": \"male\"\n",
    "    },\n",
    "    {\n",
    "        \"name\": \"Hugo\",\n",
    "        \"gender\": \"male\"\n",
    "    },\n",
    "    {\n",
    "        \"name\": \"Beate\",\n",
    "        \"gender\": \"female\"\n",
    "    },\n",
    "    {\n",
    "        \"name\": \"Mira\",\n",
    "        \"gender\": \"female\"\n",
    "    }\n",
    "]\n",
    "\n",
    "female = [ item for item in lst if item['gender'] == 'female' ]\n",
    "print(female)"
   ]
  },
  {
   "cell_type": "code",
   "execution_count": 23,
   "metadata": {
    "ExecuteTime": {
     "end_time": "2019-08-24T09:02:00.039143Z",
     "start_time": "2019-08-24T09:02:00.029075Z"
    }
   },
   "outputs": [
    {
     "name": "stdout",
     "output_type": "stream",
     "text": [
      "1 hat einen Rest.\n",
      "2 hat keinen Rest.\n",
      "3 hat einen Rest.\n",
      "4 hat keinen Rest.\n",
      "5 hat einen Rest.\n"
     ]
    }
   ],
   "source": [
    "# Eine If-Else-Condition wird hingegen direkt hiner das erste Transformations-Element der Expression gesetzt.\n",
    "\n",
    "[ print(item, 'hat einen Rest.') if item %2 != 0 else print(item, 'hat keinen Rest.') for item in [1,2,3,4,5]  ];"
   ]
  },
  {
   "cell_type": "code",
   "execution_count": 42,
   "metadata": {
    "ExecuteTime": {
     "end_time": "2019-08-24T15:05:49.014432Z",
     "start_time": "2019-08-24T15:05:49.005813Z"
    }
   },
   "outputs": [
    {
     "name": "stdout",
     "output_type": "stream",
     "text": [
      "[{'name': 'Kurt', 'gender': 'male'}, {'name': 'Hugo', 'gender': 'male'}]\n",
      "[{'name': 'Beate', 'gender': 'female'}, {'name': 'Mira', 'gender': 'female'}]\n"
     ]
    }
   ],
   "source": [
    "male = []\n",
    "female = []\n",
    "\n",
    "[ male.append(item) if item['gender'] == 'male' else female.append(item) for item in lst ]\n",
    "\n",
    "print(male)\n",
    "print(female)"
   ]
  },
  {
   "cell_type": "code",
   "execution_count": 24,
   "metadata": {
    "ExecuteTime": {
     "end_time": "2019-08-24T09:02:10.076065Z",
     "start_time": "2019-08-24T09:02:10.064270Z"
    }
   },
   "outputs": [
    {
     "data": {
      "text/plain": [
       "[['2'], ['4', '6'], ['8']]"
      ]
     },
     "execution_count": 24,
     "metadata": {},
     "output_type": "execute_result"
    }
   ],
   "source": [
    "# Wenn das Transformations-Element einer List-Comprehension wiederum selbst ein Iterable ist, \n",
    "# kann das Transformations-Element durch eine zweite, eingeschobene List-Comprehension ersetzt werden.\n",
    "# Aus Gründen von Lesbarkeit und Verständnis sollten verschachtelte List-Comprehensions mit bedacht \n",
    "# eingesetzt und gegebenenfalls (zum Teil) durch eundeutigere For-Loops ersetzt werden.\n",
    "\n",
    "[ [ str(i) for i in lst if i % 2 == 0 ]  for lst in [[1,2,3], [4,5,6], [7,8,9]] ]"
   ]
  },
  {
   "cell_type": "code",
   "execution_count": 25,
   "metadata": {
    "ExecuteTime": {
     "end_time": "2019-08-24T09:02:17.872019Z",
     "start_time": "2019-08-24T09:02:17.864602Z"
    }
   },
   "outputs": [
    {
     "data": {
      "text/plain": [
       "{'1': 0, '2': 0, '3': 0, '4': 0, '5': 0}"
      ]
     },
     "execution_count": 25,
     "metadata": {},
     "output_type": "execute_result"
    }
   ],
   "source": [
    "# Für Dict-Comprehensions gilt im Grunde das selbe wie für List-Comprehensions. Ausnamen sind, dass sie durch \n",
    "# geschweifte Klammern gerahmt werden und das Transformations-Element als Schlüssel-Wert-Paar aufgebaut sein muss.\n",
    "\n",
    "{ str(i): 0 for i in [1,2,3,4,5] }"
   ]
  },
  {
   "cell_type": "code",
   "execution_count": 26,
   "metadata": {
    "ExecuteTime": {
     "end_time": "2019-08-24T09:02:26.182743Z",
     "start_time": "2019-08-24T09:02:26.175282Z"
    }
   },
   "outputs": [
    {
     "data": {
      "text/plain": [
       "[('i', 1), ('j', 2)]"
      ]
     },
     "execution_count": 26,
     "metadata": {},
     "output_type": "execute_result"
    }
   ],
   "source": [
    "# Beispiele:\n",
    "# Ein Dictionary kann bspw. mittels einer List-Comprehension in eine Liste von Tuplen verwandelt werden.\n",
    "\n",
    "[ (i,j) for i,j in { \"i\": 1, \"j\": 2 }.items() ] # -> [ ( 'i', 1 ), ( 'j', 2 ) ]\n"
   ]
  },
  {
   "cell_type": "code",
   "execution_count": 27,
   "metadata": {
    "ExecuteTime": {
     "end_time": "2019-08-24T09:02:32.976821Z",
     "start_time": "2019-08-24T09:02:32.970577Z"
    }
   },
   "outputs": [
    {
     "data": {
      "text/plain": [
       "[('x', 'y'), ('a', 'b')]"
      ]
     },
     "execution_count": 27,
     "metadata": {},
     "output_type": "execute_result"
    }
   ],
   "source": [
    "# Permutation der Elemente einer Liste von Tupeln.\n",
    "\n",
    "[ (j,i) for i,j in [ ( 'y', 'x' ), ( 'b', 'a' ) ] ] # -> [('x', 'y'), ('a', 'b')]"
   ]
  },
  {
   "cell_type": "markdown",
   "metadata": {},
   "source": [
    "## Funktionen"
   ]
  },
  {
   "cell_type": "code",
   "execution_count": 45,
   "metadata": {
    "ExecuteTime": {
     "end_time": "2019-08-24T15:26:43.959707Z",
     "start_time": "2019-08-24T15:26:43.949159Z"
    }
   },
   "outputs": [
    {
     "name": "stdout",
     "output_type": "stream",
     "text": [
      "Hello!\n"
     ]
    },
    {
     "data": {
      "text/plain": [
       "'Hello!'"
      ]
     },
     "execution_count": 45,
     "metadata": {},
     "output_type": "execute_result"
    }
   ],
   "source": [
    "# Benannte Funktionen werden mit dem Schlüsselwort def eingeleitet, es folgt der Funktionsname und \n",
    "# in runden Klammern gegebenenfalls eine Liste von Parametern, welche beim Aufruf als Argumente \n",
    "# übergeben werden können.\n",
    "\n",
    "def Hello():\n",
    "    \"\"\"I am a Hello func.\"\"\"\n",
    "    print('Hello!')\n",
    "    return \"Hello!\"\n",
    "\n",
    "Hello()"
   ]
  },
  {
   "cell_type": "code",
   "execution_count": 29,
   "metadata": {
    "ExecuteTime": {
     "end_time": "2019-08-24T09:02:57.946358Z",
     "start_time": "2019-08-24T09:02:57.936629Z"
    }
   },
   "outputs": [
    {
     "name": "stdout",
     "output_type": "stream",
     "text": [
      "Hello!\n",
      "Live long and prosper!\n"
     ]
    },
    {
     "data": {
      "text/plain": [
       "'Live long and prosper!'"
      ]
     },
     "execution_count": 29,
     "metadata": {},
     "output_type": "execute_result"
    }
   ],
   "source": [
    "# Parameter können mit einem Default-Wert angegeben werden.\n",
    "\n",
    "def Greet(greeting='Hello'):\n",
    "    \"\"\"I am a Greet func.\"\"\"\n",
    "    print(f'{greeting}!')\n",
    "    return f'{greeting}!'\n",
    "\n",
    "Greet()\n",
    "Greet('Live long and prosper')"
   ]
  },
  {
   "cell_type": "code",
   "execution_count": 30,
   "metadata": {
    "ExecuteTime": {
     "end_time": "2019-08-24T09:03:16.191701Z",
     "start_time": "2019-08-24T09:03:16.185768Z"
    }
   },
   "outputs": [
    {
     "data": {
      "text/plain": [
       "'Hello, George!'"
      ]
     },
     "execution_count": 30,
     "metadata": {},
     "output_type": "execute_result"
    }
   ],
   "source": [
    "# Eine anonyme oder Lambda-Funktion muss auf einer einzigen Zeile geschrieben werden – es sind also keine Loops- \n",
    "# oder mehrzeilige Konstrukte möglich. Eine Lambda-Funktion wird durch das Schlüsselwort lambda eingeleitet, es folgen\n",
    "# die Parameter; ein Doppelpunkt trennt den folgenden Rückgabewert ab. Eine Lambda-Funktion besteht also nur aus\n",
    "# Argumenten und einer Expression, die als Rückgabewert während der Rückgabe evaluiert wird. Damit die Funktion \n",
    "# mit einem Namen aufgerufen werden kann, muss sie in einer Variablen gespeichert werden.\n",
    "\n",
    "func = lambda name: f'Hello, {name}!'\n",
    "func('George')"
   ]
  },
  {
   "cell_type": "code",
   "execution_count": 31,
   "metadata": {
    "ExecuteTime": {
     "end_time": "2019-08-24T09:03:25.717418Z",
     "start_time": "2019-08-24T09:03:25.711229Z"
    }
   },
   "outputs": [
    {
     "data": {
      "text/plain": [
       "'Hello, Timmy'"
      ]
     },
     "execution_count": 31,
     "metadata": {},
     "output_type": "execute_result"
    }
   ],
   "source": [
    "# Soll die Lambda-Funktion an Ort und Stelle evaluiert werden, muss der Funktionskörper in runde Klammern \n",
    "# gepackt und mit direkt folgenden runden Klammern direkt mit Parametern aufgerufen werden.\n",
    "\n",
    "( lambda name: f'Hello, {name}' )('Timmy')\n"
   ]
  },
  {
   "cell_type": "code",
   "execution_count": 32,
   "metadata": {
    "ExecuteTime": {
     "end_time": "2019-08-24T09:03:33.619118Z",
     "start_time": "2019-08-24T09:03:33.610136Z"
    }
   },
   "outputs": [
    {
     "name": "stdout",
     "output_type": "stream",
     "text": [
      "Hello, George!\n",
      "Good Morning, George!\n",
      "Bye, George!\n"
     ]
    }
   ],
   "source": [
    "# Currying bedeutet, dass eine Funktion eine weitere, bereits teilweise mit Argumenten befüllte Funktion zurückgibt. \n",
    "# Auf diese Weise können Funktionen mit Default-Werten 'vorgeladen' werden. \n",
    "\n",
    "def Greet(phrase):\n",
    "    return lambda name: print(f'{phrase}, {name}!')\n",
    "\n",
    "Hello = Greet('Hello')\n",
    "GoodMorning = Greet('Good Morning')\n",
    "Bye = Greet('Bye')\n",
    "\n",
    "Hello('George')\n",
    "GoodMorning('George')\n",
    "Bye('George')\n"
   ]
  },
  {
   "cell_type": "markdown",
   "metadata": {
    "ExecuteTime": {
     "end_time": "2019-08-24T09:04:32.197760Z",
     "start_time": "2019-08-24T09:04:32.185323Z"
    }
   },
   "source": [
    "## Klassen und Objekte\n",
    "\n",
    "Klassen sind Blaupausen die Entitäten der realen Welt schematisch und reduziert in Programmiersprachen abbilden. Klassen dienen dabei dazu Daten und Methoden, die diese Daten verarbeiten, zusammenfassen zu können. Will man eine Bibliothek modellieren, könnte jedes Buch als Klasse _Buch_ formalisiert werden. Die Klasse würde Attribute (Merkmale) wie _Buchtitel_, _ISBN_, _ausgeliehen_, u.a.m. enthalten. Methoden, also in der Klasse definierte Funktionen, könnten die Attribute ausgeben und/oder verändern, e.g. die Methode _Ausleihstatus_ würde einen String wie `f'Ausgeliehen: {self.ausgeliehen}.'` zurückgeben. \n",
    "\n",
    "Mehr zu OOP in Python, [hier](https://realpython.com/python3-object-oriented-programming/)."
   ]
  },
  {
   "cell_type": "code",
   "execution_count": 57,
   "metadata": {
    "ExecuteTime": {
     "end_time": "2019-08-24T15:45:20.599785Z",
     "start_time": "2019-08-24T15:45:20.576464Z"
    }
   },
   "outputs": [],
   "source": [
    "class Monkey:\n",
    "    def __init__(self, name, color, favorite_foods):\n",
    "        self.name = name\n",
    "        self.color = color\n",
    "        self.cuteness = 'Over 9000!'\n",
    "        self.favorite_foods = favorite_foods\n",
    "        \n",
    "    def __repr__(self):\n",
    "        return f'Monkey {self.name}'\n",
    "\n",
    "    def __str__(self):\n",
    "        return f'I am a monkey named {self.name} and my favorite foods are {\", \".join(self.favorite_foods)}.'\n",
    "    \n",
    "    # Getter\n",
    "    @property\n",
    "    def favorite_foods(self):\n",
    "        # Weitere Logik\n",
    "        return self.__favorite_foods\n",
    "    \n",
    "    # Setter\n",
    "    @favorite_foods.setter\n",
    "    def favorite_foods(self, favorite_foods):\n",
    "        if type(favorite_foods) == list or type(favorite_foods) == tuple:\n",
    "            self.__favorite_foods = favorite_foods\n",
    "        elif type(favorite_foods) == str:\n",
    "            self.__favorite_foods = [favorite_foods]\n",
    "        else:\n",
    "            print('Error: fav foods not set.')\n",
    "            self.__favorite_foods = ['none yet']"
   ]
  },
  {
   "cell_type": "code",
   "execution_count": 58,
   "metadata": {
    "ExecuteTime": {
     "end_time": "2019-08-24T15:45:23.789846Z",
     "start_time": "2019-08-24T15:45:23.781436Z"
    }
   },
   "outputs": [],
   "source": [
    "george = Monkey('George', 'red', ['Bananas', 'Pizza'])"
   ]
  },
  {
   "cell_type": "code",
   "execution_count": 59,
   "metadata": {
    "ExecuteTime": {
     "end_time": "2019-08-24T15:46:20.571753Z",
     "start_time": "2019-08-24T15:46:20.553172Z"
    }
   },
   "outputs": [
    {
     "data": {
      "text/plain": [
       "Monkey George"
      ]
     },
     "execution_count": 59,
     "metadata": {},
     "output_type": "execute_result"
    }
   ],
   "source": [
    "george # Gives __repr__"
   ]
  },
  {
   "cell_type": "code",
   "execution_count": 60,
   "metadata": {
    "ExecuteTime": {
     "end_time": "2019-08-24T15:46:27.842334Z",
     "start_time": "2019-08-24T15:46:27.829072Z"
    }
   },
   "outputs": [
    {
     "name": "stdout",
     "output_type": "stream",
     "text": [
      "I am a monkey named George and my favorite foods are Bananas, Pizza.\n"
     ]
    }
   ],
   "source": [
    "print(george) # Gives __str__"
   ]
  },
  {
   "cell_type": "code",
   "execution_count": 62,
   "metadata": {
    "ExecuteTime": {
     "end_time": "2019-08-24T15:47:25.654317Z",
     "start_time": "2019-08-24T15:47:25.645892Z"
    }
   },
   "outputs": [
    {
     "name": "stdout",
     "output_type": "stream",
     "text": [
      "I am a monkey named Evelyn and my favorite foods are Pudding.\n"
     ]
    }
   ],
   "source": [
    "evelyn = Monkey('Evelyn', 'yellow', 'Pudding')\n",
    "print(evelyn)"
   ]
  },
  {
   "cell_type": "code",
   "execution_count": 63,
   "metadata": {
    "ExecuteTime": {
     "end_time": "2019-08-24T15:47:37.301211Z",
     "start_time": "2019-08-24T15:47:37.286431Z"
    }
   },
   "outputs": [
    {
     "name": "stdout",
     "output_type": "stream",
     "text": [
      "Error: fav foods not set.\n",
      "I am a monkey named Toby and my favorite foods are none yet.\n"
     ]
    }
   ],
   "source": [
    "wrongType = Monkey('Toby', 'green', 123)\n",
    "print(wrongType)"
   ]
  },
  {
   "cell_type": "code",
   "execution_count": 64,
   "metadata": {
    "ExecuteTime": {
     "end_time": "2019-08-24T15:47:53.630103Z",
     "start_time": "2019-08-24T15:47:53.619557Z"
    }
   },
   "outputs": [
    {
     "name": "stdout",
     "output_type": "stream",
     "text": [
      "I am a monkey named Toby and my favorite foods are Bifteki.\n"
     ]
    }
   ],
   "source": [
    "wrongType.favorite_foods = 'Bifteki'\n",
    "print(wrongType)"
   ]
  },
  {
   "cell_type": "markdown",
   "metadata": {},
   "source": [
    "## Imports und Libraries"
   ]
  },
  {
   "cell_type": "code",
   "execution_count": 50,
   "metadata": {
    "ExecuteTime": {
     "end_time": "2019-08-24T09:15:50.182592Z",
     "start_time": "2019-08-24T09:15:44.808555Z"
    }
   },
   "outputs": [],
   "source": [
    "import spacy\n",
    "import requests\n",
    "import pandas as pd"
   ]
  },
  {
   "cell_type": "markdown",
   "metadata": {
    "ExecuteTime": {
     "end_time": "2019-08-24T09:16:24.428316Z",
     "start_time": "2019-08-24T09:16:24.423129Z"
    }
   },
   "source": [
    "# Grundlagen NLP"
   ]
  },
  {
   "cell_type": "markdown",
   "metadata": {},
   "source": [
    "## Imports und Module"
   ]
  },
  {
   "cell_type": "markdown",
   "metadata": {},
   "source": [
    "Damit Libraries innerhalb von Python verfügbar sind und importiert werden können, müssen sie zuvor über den Python-Paketmanager PIP installiert werden. Das geht meistens über den Befehl `pip install PAKETNAME`. Mehr Informationen gibt es [hier](https://pip.pypa.io/en/stable/quickstart/)."
   ]
  },
  {
   "cell_type": "markdown",
   "metadata": {},
   "source": [
    "### Importe"
   ]
  },
  {
   "cell_type": "code",
   "execution_count": 102,
   "metadata": {
    "ExecuteTime": {
     "end_time": "2019-08-25T07:11:13.371748Z",
     "start_time": "2019-08-25T07:11:11.749051Z"
    }
   },
   "outputs": [],
   "source": [
    "import sys\n",
    "import importlib\n",
    "import spacy\n",
    "import pandas as pd"
   ]
  },
  {
   "cell_type": "markdown",
   "metadata": {
    "ExecuteTime": {
     "end_time": "2019-08-25T07:06:22.471052Z",
     "start_time": "2019-08-25T07:06:22.467645Z"
    }
   },
   "source": [
    "### Module"
   ]
  },
  {
   "cell_type": "code",
   "execution_count": 114,
   "metadata": {
    "ExecuteTime": {
     "end_time": "2019-08-25T07:29:01.539350Z",
     "start_time": "2019-08-25T07:29:01.533881Z"
    }
   },
   "outputs": [],
   "source": [
    "import extLib.module as mod"
   ]
  },
  {
   "cell_type": "code",
   "execution_count": 119,
   "metadata": {
    "ExecuteTime": {
     "end_time": "2019-08-25T07:35:40.245246Z",
     "start_time": "2019-08-25T07:35:40.233423Z"
    }
   },
   "outputs": [
    {
     "data": {
      "text/plain": [
       "<module 'extLib.module' from '/Users/max/Documents/git_repos/python-boot-camp/2019-08-24/extLib/module.py'>"
      ]
     },
     "execution_count": 119,
     "metadata": {},
     "output_type": "execute_result"
    }
   ],
   "source": [
    "importlib.reload(mod)"
   ]
  },
  {
   "cell_type": "code",
   "execution_count": 109,
   "metadata": {
    "ExecuteTime": {
     "end_time": "2019-08-25T07:25:04.029048Z",
     "start_time": "2019-08-25T07:25:04.021066Z"
    }
   },
   "outputs": [
    {
     "data": {
      "text/plain": [
       "{'best_animal': 'Affe', 'best_food': 'Pizza'}"
      ]
     },
     "execution_count": 109,
     "metadata": {},
     "output_type": "execute_result"
    }
   ],
   "source": [
    "mod.CONSTANTS"
   ]
  },
  {
   "cell_type": "code",
   "execution_count": 105,
   "metadata": {
    "ExecuteTime": {
     "end_time": "2019-08-25T07:16:23.405036Z",
     "start_time": "2019-08-25T07:16:23.397720Z"
    }
   },
   "outputs": [
    {
     "data": {
      "text/plain": [
       "'Affe'"
      ]
     },
     "execution_count": 105,
     "metadata": {},
     "output_type": "execute_result"
    }
   ],
   "source": [
    "mod.CONSTANTS['best_animal']"
   ]
  },
  {
   "cell_type": "code",
   "execution_count": 106,
   "metadata": {
    "ExecuteTime": {
     "end_time": "2019-08-25T07:16:29.653344Z",
     "start_time": "2019-08-25T07:16:29.645853Z"
    }
   },
   "outputs": [
    {
     "data": {
      "text/plain": [
       "'Pizza'"
      ]
     },
     "execution_count": 106,
     "metadata": {},
     "output_type": "execute_result"
    }
   ],
   "source": [
    "mod.CONSTANTS['best_food']"
   ]
  },
  {
   "cell_type": "code",
   "execution_count": 118,
   "metadata": {
    "ExecuteTime": {
     "end_time": "2019-08-25T07:29:17.348918Z",
     "start_time": "2019-08-25T07:29:17.339736Z"
    }
   },
   "outputs": [
    {
     "name": "stdout",
     "output_type": "stream",
     "text": [
      "Best animal is: Affe!\n"
     ]
    }
   ],
   "source": [
    "mod.whatsBestAnimal()"
   ]
  },
  {
   "cell_type": "code",
   "execution_count": 120,
   "metadata": {
    "ExecuteTime": {
     "end_time": "2019-08-25T07:35:46.002218Z",
     "start_time": "2019-08-25T07:35:45.995271Z"
    }
   },
   "outputs": [
    {
     "name": "stdout",
     "output_type": "stream",
     "text": [
      "Available constants are: best_animal, best_food\n"
     ]
    }
   ],
   "source": [
    "mod.availableConstants()"
   ]
  },
  {
   "cell_type": "code",
   "execution_count": 125,
   "metadata": {
    "ExecuteTime": {
     "end_time": "2019-08-25T07:54:57.744326Z",
     "start_time": "2019-08-25T07:54:57.740432Z"
    }
   },
   "outputs": [],
   "source": [
    "func_dict = {}\n",
    "\n",
    "func_dict['func_01'] = mod.availableConstants"
   ]
  },
  {
   "cell_type": "code",
   "execution_count": 126,
   "metadata": {
    "ExecuteTime": {
     "end_time": "2019-08-25T07:54:58.197527Z",
     "start_time": "2019-08-25T07:54:58.192626Z"
    }
   },
   "outputs": [
    {
     "name": "stdout",
     "output_type": "stream",
     "text": [
      "Available constants are: best_animal, best_food\n"
     ]
    }
   ],
   "source": [
    "func_dict['func_01']()"
   ]
  },
  {
   "cell_type": "markdown",
   "metadata": {},
   "source": [
    "## NLP"
   ]
  },
  {
   "cell_type": "code",
   "execution_count": 173,
   "metadata": {
    "ExecuteTime": {
     "end_time": "2019-08-25T08:21:25.133369Z",
     "start_time": "2019-08-25T08:21:25.123786Z"
    }
   },
   "outputs": [],
   "source": [
    "import requests\n",
    "import re\n",
    "import spacy\n",
    "nlp = spacy.load(\"en_core_web_sm\")"
   ]
  },
  {
   "cell_type": "code",
   "execution_count": 235,
   "metadata": {
    "ExecuteTime": {
     "end_time": "2019-08-25T09:57:38.559773Z",
     "start_time": "2019-08-25T09:57:38.086917Z"
    }
   },
   "outputs": [],
   "source": [
    "from bs4 import BeautifulSoup"
   ]
  },
  {
   "cell_type": "code",
   "execution_count": 297,
   "metadata": {
    "ExecuteTime": {
     "end_time": "2019-08-25T12:11:23.491868Z",
     "start_time": "2019-08-25T12:11:17.330684Z"
    }
   },
   "outputs": [
    {
     "data": {
      "text/plain": [
       "dict_keys(['metadata', 'Chapter_I', 'Chapter_II', 'Chapter_III', 'Chapter_IV'])"
      ]
     },
     "execution_count": 297,
     "metadata": {},
     "output_type": "execute_result"
    }
   ],
   "source": [
    "book = {\n",
    "    \"metadata\": {\n",
    "            \"main_title\": \"The Shadow Kingdom\",\n",
    "            \"author\": \"Robert E. Howard\",\n",
    "            \"chapters\": 4,\n",
    "            \"source\": \"Wikisource\",\n",
    "            \"URL\": {\n",
    "                \"main\": \"https://en.wikisource.org/wiki/The_Shadow_Kingdom/\",\n",
    "                \"infix\": \"Chapter_\",\n",
    "                \"parts\": ['I', 'II', 'III', 'IV']\n",
    "            }\n",
    "    }\n",
    "}\n",
    "\n",
    "main = book[\"metadata\"][\"URL\"][\"main\"]\n",
    "infix = book[\"metadata\"][\"URL\"][\"infix\"]\n",
    "\n",
    "for part in book[\"metadata\"][\"URL\"][\"parts\"]:\n",
    "    URL = f'{main}{infix}{part}'\n",
    "    chapter = requests.get(URL).text\n",
    "    soup = BeautifulSoup(chapter)\n",
    "    text_section = soup.find(\"div\", \"prose\")\n",
    "    book[f'{infix}{part}'] = {\n",
    "        'title': text_section.h2.find('span','mw-headline').text,\n",
    "        'paragraphs': [],\n",
    "        'spacy_doc': ''\n",
    "    }\n",
    "    for paragraph in text_section.find_all('p'):\n",
    "        book[f'{infix}{part}']['paragraphs'].append(paragraph.text.replace('\\n','').strip())\n",
    "    book[f'{infix}{part}']['spacy_doc'] = nlp(\"\\n\".join(book[f'{infix}{part}']['paragraphs']))\n",
    "\n",
    "book.keys()"
   ]
  },
  {
   "cell_type": "code",
   "execution_count": 299,
   "metadata": {
    "ExecuteTime": {
     "end_time": "2019-08-25T12:12:16.606649Z",
     "start_time": "2019-08-25T12:12:16.563873Z"
    }
   },
   "outputs": [
    {
     "name": "stdout",
     "output_type": "stream",
     "text": [
      "The => DET => the\n",
      "blare => NOUN => blare\n",
      "of => ADP => of\n",
      "the => DET => the\n",
      "trumpets => NOUN => trumpet\n",
      "grew => VERB => grow\n",
      "louder => ADV => louder\n",
      ", => PUNCT => ,\n",
      "like => ADP => like\n",
      "a => DET => a\n",
      "deep => ADJ => deep\n",
      "golden => ADJ => golden\n",
      "tide => NOUN => tide\n",
      "surge => NOUN => surge\n",
      ", => PUNCT => ,\n",
      "like => ADP => like\n",
      "the => DET => the\n",
      "soft => ADJ => soft\n",
      "booming => NOUN => booming\n",
      "of => ADP => of\n",
      "the => DET => the\n",
      "evening => NOUN => evening\n",
      "tides => NOUN => tide\n",
      "against => ADP => against\n",
      "the => DET => the\n",
      "silver => ADJ => silver\n"
     ]
    }
   ],
   "source": [
    "for token in book['Chapter_I']['spacy_doc'][:26]:\n",
    "    print(f'{token.orth_} => {token.pos_} => {token.lemma_}')"
   ]
  },
  {
   "cell_type": "code",
   "execution_count": 300,
   "metadata": {
    "ExecuteTime": {
     "end_time": "2019-08-25T12:13:44.103159Z",
     "start_time": "2019-08-25T12:13:44.084614Z"
    }
   },
   "outputs": [
    {
     "name": "stdout",
     "output_type": "stream",
     "text": [
      "evening TIME\n",
      "Valusia GPE\n",
      "first ORDINAL\n",
      "Tower of Splendor WORK_OF_ART\n",
      "Mu PERSON\n",
      "Kaa-u PERSON\n",
      "Lemuria GPE\n",
      "Kull PERSON\n",
      "Valusia GPE\n",
      "the Topaz Throne LOC\n",
      "Tower PERSON\n",
      "Splendor GPE\n",
      "Kull PERSON\n",
      "the Red Slayers LOC\n",
      "Kull PERSON\n",
      "Kull PERSON\n",
      "Kull PERSON\n",
      "Kull PERSON\n",
      "Kull PERSON\n",
      "Kull PERSON\n",
      "Kull PERSON\n",
      "Valusian PERSON\n",
      "Atlantean NORP\n",
      "the Tower of Splendor FAC\n",
      "Kull PERSON\n"
     ]
    }
   ],
   "source": [
    "for ent in book['Chapter_I']['spacy_doc'].ents[:25]:\n",
    "    print(ent.text, ent.label_)"
   ]
  },
  {
   "cell_type": "code",
   "execution_count": 334,
   "metadata": {
    "ExecuteTime": {
     "end_time": "2019-08-25T12:47:01.240338Z",
     "start_time": "2019-08-25T12:47:01.219689Z"
    }
   },
   "outputs": [],
   "source": [
    "def countPOS(doc):\n",
    "    if type(doc) == list:\n",
    "        tokens = []\n",
    "        for subdoc in doc:\n",
    "            [ tokens.append(token.pos_) for token in subdoc ]\n",
    "    else:\n",
    "        tokens = [ token.pos_ for token in doc ]\n",
    "    tokens_set = set(tokens)\n",
    "    count =  { token: tokens.count(token) for token in tokens_set }\n",
    "    return count\n",
    "\n",
    "def countLemmata(doc):\n",
    "    if type(doc) == list:\n",
    "        tokens = []\n",
    "        for subdoc in doc:\n",
    "            [ tokens.append(token.lemma_) for token in subdoc ]\n",
    "    else:\n",
    "        tokens = [ token.lemma_ for token in doc ]\n",
    "    tokens_set = set(tokens)\n",
    "    count =  { token: tokens.count(token) for token in tokens_set }\n",
    "    return count\n",
    "\n",
    "def sortFreqDict(dictionary, reverse=True):\n",
    "    return sorted(dictionary.items(), key=lambda x: x[1], reverse=reverse)"
   ]
  },
  {
   "cell_type": "code",
   "execution_count": 323,
   "metadata": {
    "ExecuteTime": {
     "end_time": "2019-08-25T12:37:36.318119Z",
     "start_time": "2019-08-25T12:37:36.303778Z"
    }
   },
   "outputs": [],
   "source": [
    "allChapters = [\n",
    "    book['Chapter_I']['spacy_doc'], \n",
    "    book['Chapter_II']['spacy_doc'],\n",
    "    book['Chapter_III']['spacy_doc'],\n",
    "    book['Chapter_IV']['spacy_doc']\n",
    "]"
   ]
  },
  {
   "cell_type": "code",
   "execution_count": 320,
   "metadata": {
    "ExecuteTime": {
     "end_time": "2019-08-25T12:32:11.036824Z",
     "start_time": "2019-08-25T12:32:11.020603Z"
    }
   },
   "outputs": [
    {
     "data": {
      "text/plain": [
       "{'CCONJ': 195,\n",
       " 'INTJ': 16,\n",
       " 'VERB': 684,\n",
       " 'ADP': 533,\n",
       " 'X': 2,\n",
       " 'SPACE': 89,\n",
       " 'PROPN': 345,\n",
       " 'PART': 67,\n",
       " 'PUNCT': 741,\n",
       " 'NOUN': 856,\n",
       " 'ADJ': 460,\n",
       " 'NUM': 4,\n",
       " 'DET': 464,\n",
       " 'ADV': 245,\n",
       " 'PRON': 234}"
      ]
     },
     "execution_count": 320,
     "metadata": {},
     "output_type": "execute_result"
    }
   ],
   "source": [
    "countPOS([book['Chapter_I']['spacy_doc'], book['Chapter_II']['spacy_doc']])"
   ]
  },
  {
   "cell_type": "code",
   "execution_count": 333,
   "metadata": {
    "ExecuteTime": {
     "end_time": "2019-08-25T12:44:58.518071Z",
     "start_time": "2019-08-25T12:44:58.492464Z"
    }
   },
   "outputs": [
    {
     "data": {
      "text/plain": [
       "{'CCONJ': 529,\n",
       " 'INTJ': 41,\n",
       " 'VERB': 2076,\n",
       " 'ADP': 1520,\n",
       " 'X': 16,\n",
       " 'SPACE': 245,\n",
       " 'SYM': 1,\n",
       " 'PROPN': 879,\n",
       " 'PART': 151,\n",
       " 'PUNCT': 2067,\n",
       " 'NOUN': 2538,\n",
       " 'ADJ': 1232,\n",
       " 'NUM': 30,\n",
       " 'DET': 1444,\n",
       " 'ADV': 750,\n",
       " 'PRON': 634}"
      ]
     },
     "execution_count": 333,
     "metadata": {},
     "output_type": "execute_result"
    }
   ],
   "source": [
    "countPOS(allChapters)"
   ]
  },
  {
   "cell_type": "code",
   "execution_count": 315,
   "metadata": {
    "ExecuteTime": {
     "end_time": "2019-08-25T12:26:24.515513Z",
     "start_time": "2019-08-25T12:26:24.507727Z"
    }
   },
   "outputs": [
    {
     "data": {
      "text/plain": [
       "{'CCONJ': 86,\n",
       " 'INTJ': 4,\n",
       " 'VERB': 256,\n",
       " 'ADP': 251,\n",
       " 'SPACE': 39,\n",
       " 'PROPN': 130,\n",
       " 'PART': 27,\n",
       " 'PUNCT': 296,\n",
       " 'NOUN': 399,\n",
       " 'ADJ': 198,\n",
       " 'NUM': 1,\n",
       " 'DET': 238,\n",
       " 'ADV': 98,\n",
       " 'PRON': 69}"
      ]
     },
     "execution_count": 315,
     "metadata": {},
     "output_type": "execute_result"
    }
   ],
   "source": [
    "countPOS(book['Chapter_I']['spacy_doc'])"
   ]
  },
  {
   "cell_type": "code",
   "execution_count": 331,
   "metadata": {
    "ExecuteTime": {
     "end_time": "2019-08-25T12:44:11.073053Z",
     "start_time": "2019-08-25T12:44:10.417513Z"
    }
   },
   "outputs": [],
   "source": [
    "allLemmataCount = countLemmata(allChapters)"
   ]
  },
  {
   "cell_type": "code",
   "execution_count": 332,
   "metadata": {
    "ExecuteTime": {
     "end_time": "2019-08-25T12:44:27.330741Z",
     "start_time": "2019-08-25T12:44:27.320801Z"
    }
   },
   "outputs": [
    {
     "data": {
      "text/plain": [
       "33"
      ]
     },
     "execution_count": 332,
     "metadata": {},
     "output_type": "execute_result"
    }
   ],
   "source": [
    "allLemmataCount['sword']"
   ]
  },
  {
   "cell_type": "code",
   "execution_count": 336,
   "metadata": {
    "ExecuteTime": {
     "end_time": "2019-08-25T12:48:02.212616Z",
     "start_time": "2019-08-25T12:48:02.185475Z"
    }
   },
   "outputs": [
    {
     "data": {
      "text/plain": [
       "['-PRON-',\n",
       " 'the',\n",
       " ',',\n",
       " '.',\n",
       " 'of',\n",
       " 'and',\n",
       " 'be',\n",
       " 'a',\n",
       " '\\n',\n",
       " '\"',\n",
       " 'Kull',\n",
       " 'to',\n",
       " 'in',\n",
       " '“',\n",
       " 'that',\n",
       " '-',\n",
       " 'have',\n",
       " '!',\n",
       " 'man',\n",
       " 'with',\n",
       " 'as',\n",
       " 'but',\n",
       " 'king',\n",
       " ';',\n",
       " 'for',\n",
       " 'Brule',\n",
       " '—',\n",
       " '?',\n",
       " '’s',\n",
       " 'from',\n",
       " 'at',\n",
       " 'Ka',\n",
       " 'not',\n",
       " 'nu',\n",
       " 'come',\n",
       " 'eye',\n",
       " 'no',\n",
       " 'Pict',\n",
       " 'there',\n",
       " 'upon',\n",
       " 'by',\n",
       " 'Valusia',\n",
       " 'this',\n",
       " 'like',\n",
       " 'who',\n",
       " 'know',\n",
       " 'then',\n",
       " 'back',\n",
       " 'room',\n",
       " 'all',\n",
       " 'see',\n",
       " 'say',\n",
       " 'do',\n",
       " 'sword',\n",
       " 'an',\n",
       " 'stand',\n",
       " 'through',\n",
       " 'on',\n",
       " 'so',\n",
       " 'yet',\n",
       " 'now',\n",
       " '”',\n",
       " 'face',\n",
       " 'when',\n",
       " 'look',\n",
       " 'night',\n",
       " 'if',\n",
       " 'Valka',\n",
       " 'great',\n",
       " 'those',\n",
       " 'door',\n",
       " 'old',\n",
       " 'would',\n",
       " 'true',\n",
       " 'hand',\n",
       " 'what',\n",
       " 'into',\n",
       " 'snake',\n",
       " 'secret',\n",
       " 'mind',\n",
       " 'word',\n",
       " 'thing',\n",
       " 'or',\n",
       " 'throne',\n",
       " 'speak',\n",
       " 'seem',\n",
       " 'how',\n",
       " 'which',\n",
       " 'councilor',\n",
       " 'many',\n",
       " 'before',\n",
       " 'these',\n",
       " 'die',\n",
       " 'will',\n",
       " 'corridor',\n",
       " 'go',\n",
       " 'world',\n",
       " 'Aye',\n",
       " 'arm',\n",
       " 'long',\n",
       " 'sea',\n",
       " 'take',\n",
       " 'whisper',\n",
       " 'guard',\n",
       " 'gaze',\n",
       " 'could',\n",
       " 'light',\n",
       " 'dim',\n",
       " 'palace',\n",
       " 'more',\n",
       " 'may',\n",
       " 'such',\n",
       " 'slay',\n",
       " 'any',\n",
       " 'shake',\n",
       " 'again',\n",
       " 'serpent',\n",
       " 'up',\n",
       " 'make',\n",
       " 'power',\n",
       " 'even',\n",
       " 'give',\n",
       " 'think',\n",
       " 'about',\n",
       " 'other',\n",
       " 'Atlantis',\n",
       " 'warrior',\n",
       " 'priest',\n",
       " 'behind',\n",
       " 'step',\n",
       " 'silent',\n",
       " 'sit',\n",
       " 'out',\n",
       " 'ever',\n",
       " 'each',\n",
       " 'way',\n",
       " 'hold',\n",
       " 'some',\n",
       " 'feel',\n",
       " 'still',\n",
       " 'death',\n",
       " 'much',\n",
       " 'fling',\n",
       " 'close',\n",
       " 'shoulder',\n",
       " 'here',\n",
       " 'head',\n",
       " 'ancient',\n",
       " 'council',\n",
       " 'fierce',\n",
       " 'rise',\n",
       " 'race',\n",
       " 'strange',\n",
       " 'voice',\n",
       " 'without',\n",
       " 'pass',\n",
       " 'name',\n",
       " 'lord',\n",
       " 'forward',\n",
       " 'turn',\n",
       " 'isle',\n",
       " 'woman',\n",
       " 'hear',\n",
       " 'follow',\n",
       " 'chief',\n",
       " 'alone',\n",
       " 'steal',\n",
       " 'day',\n",
       " 'must',\n",
       " 'break',\n",
       " 'Serpent',\n",
       " 'use',\n",
       " 'last',\n",
       " 'thought',\n",
       " 'ye',\n",
       " 'wound',\n",
       " 'dream',\n",
       " 'until',\n",
       " 'move',\n",
       " 'ago',\n",
       " 'sweep',\n",
       " 'trust',\n",
       " 'life',\n",
       " 'above',\n",
       " 'thrust',\n",
       " 'than',\n",
       " 'savage',\n",
       " 'down',\n",
       " 'mighty',\n",
       " 'foot',\n",
       " 'can',\n",
       " 'Tu',\n",
       " 'where',\n",
       " ':',\n",
       " 'sleep',\n",
       " 'across',\n",
       " 'though',\n",
       " 'rest',\n",
       " 'should',\n",
       " 'fade',\n",
       " 'nor',\n",
       " 'frightful',\n",
       " 'garden',\n",
       " 'live',\n",
       " 'form',\n",
       " 'study',\n",
       " 'nothing',\n",
       " 'over',\n",
       " 'laugh',\n",
       " 'leap',\n",
       " 'real',\n",
       " 'while',\n",
       " 'mask',\n",
       " 'god',\n",
       " 'lean',\n",
       " 'steel',\n",
       " 'lie',\n",
       " 'first',\n",
       " 'ride',\n",
       " 'soul',\n",
       " 'remember',\n",
       " 'street',\n",
       " 'tell',\n",
       " 'people',\n",
       " 'after',\n",
       " 'past',\n",
       " 'foe',\n",
       " 'one',\n",
       " 'land',\n",
       " 'treachery',\n",
       " 'watch',\n",
       " 'bring',\n",
       " 'year',\n",
       " 'reach',\n",
       " 'stop',\n",
       " 'moon',\n",
       " 'dragon',\n",
       " 'grim',\n",
       " 'become',\n",
       " 'none',\n",
       " 'plot',\n",
       " 'too',\n",
       " 'wild',\n",
       " 'ha',\n",
       " 'silver',\n",
       " 'shadow',\n",
       " 'fool',\n",
       " 'red',\n",
       " 'Slayers',\n",
       " 'only',\n",
       " 'save',\n",
       " 'vanish',\n",
       " 'draw',\n",
       " 'hiss',\n",
       " 'court',\n",
       " 'own',\n",
       " 'Red',\n",
       " 'sound',\n",
       " 'swing',\n",
       " 'sign',\n",
       " 'suddenly',\n",
       " 'terrible',\n",
       " 'halt',\n",
       " 'blood',\n",
       " 'among',\n",
       " 'age',\n",
       " 'hilt',\n",
       " 'far',\n",
       " 'short',\n",
       " 'battle',\n",
       " 'beneath',\n",
       " 'hall',\n",
       " 'open',\n",
       " 'away',\n",
       " 'never',\n",
       " 'dare',\n",
       " 'two',\n",
       " 'statesman',\n",
       " 'little',\n",
       " 'armlet',\n",
       " 'answer',\n",
       " 'hill',\n",
       " 'panel',\n",
       " 'another',\n",
       " 'show',\n",
       " 'Picts',\n",
       " 'wall',\n",
       " 'tapestry',\n",
       " 'nation',\n",
       " 'walk',\n",
       " 'war',\n",
       " 'empty',\n",
       " 'lurk',\n",
       " 'shape',\n",
       " 'glance',\n",
       " 'easy',\n",
       " 'spear',\n",
       " 'stair',\n",
       " 'silently',\n",
       " 'swift',\n",
       " 'scent',\n",
       " 'reign',\n",
       " 'ally',\n",
       " 'young',\n",
       " 'let',\n",
       " 'Empires',\n",
       " 'further',\n",
       " 'smile',\n",
       " 'time',\n",
       " 'strong',\n",
       " 'off',\n",
       " 'shall',\n",
       " 'cause',\n",
       " 'heavy',\n",
       " 'grow',\n",
       " 'forget',\n",
       " 'fog',\n",
       " 'monster',\n",
       " 'ready',\n",
       " 'dead',\n",
       " 'accurse',\n",
       " 'blaze',\n",
       " 'rule',\n",
       " 'star',\n",
       " 'dais',\n",
       " 'meet',\n",
       " 'leave',\n",
       " 'something',\n",
       " 'floor',\n",
       " 'few',\n",
       " 'why',\n",
       " 'gain',\n",
       " 'mean',\n",
       " 'slightly',\n",
       " 'eighteen',\n",
       " 'enough',\n",
       " 'tide',\n",
       " 'swear',\n",
       " 'fall',\n",
       " 'figure',\n",
       " 'brow',\n",
       " 'half',\n",
       " 'reason',\n",
       " 'breath',\n",
       " 'suspicion',\n",
       " 'lead',\n",
       " 'change',\n",
       " 'green',\n",
       " 'surge',\n",
       " 'lest',\n",
       " 'beach',\n",
       " 'bear',\n",
       " 'vague',\n",
       " 'soft',\n",
       " 'breeze',\n",
       " 'neither',\n",
       " 'false',\n",
       " 'legend',\n",
       " 'warily',\n",
       " 'wine',\n",
       " 'mountain',\n",
       " 'bloody',\n",
       " 'gleam',\n",
       " 'against',\n",
       " 'window',\n",
       " 'sneer',\n",
       " 'affair',\n",
       " 'wear',\n",
       " 'foul',\n",
       " 'sight',\n",
       " 'weird',\n",
       " 'blow',\n",
       " 'King',\n",
       " 'muse',\n",
       " 'whom',\n",
       " 'clang',\n",
       " 'Hall',\n",
       " 'monstrous',\n",
       " 'gray',\n",
       " 'guardsman',\n",
       " 'tribesman',\n",
       " 'gap',\n",
       " 'instant',\n",
       " 'city',\n",
       " 'horrid',\n",
       " 'What',\n",
       " 'Society',\n",
       " 'nerve',\n",
       " 'since',\n",
       " 'phantom',\n",
       " 'magic',\n",
       " 'recoil',\n",
       " 'right',\n",
       " 'Seven',\n",
       " 'between',\n",
       " 'mount',\n",
       " 'side',\n",
       " 'fact',\n",
       " 'forth',\n",
       " 'cold',\n",
       " 'attendant',\n",
       " 'aware',\n",
       " 'desert',\n",
       " 'reply',\n",
       " 'tooth',\n",
       " 'dark',\n",
       " 'straight',\n",
       " 'lajerama',\n",
       " 'matter',\n",
       " 'reflect',\n",
       " 'bend',\n",
       " 'brule',\n",
       " 'closely',\n",
       " 'toward',\n",
       " 'speed',\n",
       " 'feature',\n",
       " 'kaa',\n",
       " 'flash',\n",
       " 'keep',\n",
       " 'century',\n",
       " 'hair',\n",
       " 'memory',\n",
       " 'stride',\n",
       " 'command',\n",
       " 'every',\n",
       " 'drive',\n",
       " 'ghost',\n",
       " 'sense',\n",
       " 'carefully',\n",
       " 'fear',\n",
       " 'bow',\n",
       " 'fire',\n",
       " 'friendship',\n",
       " 'tomorrow',\n",
       " 'blind',\n",
       " 'flesh',\n",
       " 'broad',\n",
       " 'same',\n",
       " 'wait',\n",
       " 'run',\n",
       " 'horror',\n",
       " 'pictish',\n",
       " 'ask',\n",
       " 'yet—',\n",
       " 'statecraft',\n",
       " 'wolf',\n",
       " 'phrase',\n",
       " 'begin',\n",
       " 'grimly',\n",
       " 'different',\n",
       " 'order',\n",
       " 'Atlantean',\n",
       " 'bronze',\n",
       " 'smooth',\n",
       " 'glow',\n",
       " 'manner',\n",
       " 'crouch',\n",
       " 'sudden',\n",
       " 'lip',\n",
       " 'always',\n",
       " 'ere',\n",
       " 'robe',\n",
       " 'strike',\n",
       " 'mockery',\n",
       " 'start',\n",
       " 'escort',\n",
       " 'western',\n",
       " 'tribe',\n",
       " 'challenge',\n",
       " 'love',\n",
       " 'Men',\n",
       " 'apparent',\n",
       " 'just',\n",
       " 'nay',\n",
       " 'repeat',\n",
       " 'white',\n",
       " 'wonder',\n",
       " 'tradition',\n",
       " 'place',\n",
       " 'upward',\n",
       " 'mouth',\n",
       " 'Nay',\n",
       " 'aside',\n",
       " 'Tush',\n",
       " 'dust',\n",
       " 'statue',\n",
       " 'nama',\n",
       " 'antiquity',\n",
       " 'dagger',\n",
       " 'single',\n",
       " 'passage',\n",
       " 'leopard',\n",
       " 'put',\n",
       " 'seek',\n",
       " 'motion',\n",
       " 'movement',\n",
       " 'finger',\n",
       " 'sway',\n",
       " 'shudder',\n",
       " 'enemy',\n",
       " 'Hark',\n",
       " 'stallion',\n",
       " 'army',\n",
       " 'unused',\n",
       " 'slash',\n",
       " 'body',\n",
       " 'gem',\n",
       " 'salute',\n",
       " 'terror',\n",
       " 'seat',\n",
       " 'deed',\n",
       " 'illusion',\n",
       " 'swiftly',\n",
       " 'ah',\n",
       " 'crafty',\n",
       " 'naught',\n",
       " 'ferocious',\n",
       " 'ghostly',\n",
       " 'chain',\n",
       " 'lay',\n",
       " 'youth',\n",
       " 'allow',\n",
       " 'Room',\n",
       " 'sigh',\n",
       " 'bare',\n",
       " 'chance',\n",
       " 'scale',\n",
       " 'heed',\n",
       " 'Ancient',\n",
       " 'climb',\n",
       " 'trumpeter',\n",
       " 'stead',\n",
       " 'inscrutable',\n",
       " 'prickle',\n",
       " 'child',\n",
       " 'rid',\n",
       " 'whose',\n",
       " 'breast',\n",
       " 'exclaim',\n",
       " 'within',\n",
       " 'craft',\n",
       " 'glide',\n",
       " 'moment',\n",
       " 'harry',\n",
       " 'along',\n",
       " 'lady',\n",
       " 'ambition',\n",
       " 'mystic',\n",
       " 'Tower',\n",
       " 'irritably',\n",
       " 'gasp',\n",
       " 'throw',\n",
       " 'deep',\n",
       " 'hunt',\n",
       " 'clear',\n",
       " 'thousand',\n",
       " 'else',\n",
       " 'lion',\n",
       " 'merge',\n",
       " 'freedom',\n",
       " 'Eallal',\n",
       " 'foremost',\n",
       " 'conquer',\n",
       " 'care',\n",
       " 'wave',\n",
       " 'minute',\n",
       " 'narrow',\n",
       " 'mutter',\n",
       " 'bid',\n",
       " 'erect',\n",
       " 'action',\n",
       " 'fiend',\n",
       " 'plan',\n",
       " 'Splendor',\n",
       " 'beside',\n",
       " 'host',\n",
       " 'touch',\n",
       " 'insanity',\n",
       " 'atlantean',\n",
       " 'Kaanuub',\n",
       " 'Lemuria',\n",
       " 'strangely',\n",
       " 'secretly',\n",
       " 'contemptuous',\n",
       " 'pace',\n",
       " 'mercenary',\n",
       " 'chamber',\n",
       " 'eon',\n",
       " 'wonderingly',\n",
       " 'flood',\n",
       " 'sorcery',\n",
       " 'courtier',\n",
       " 'feud',\n",
       " 'concern',\n",
       " 'mist',\n",
       " 'golden',\n",
       " 'primitive',\n",
       " 'scarlet',\n",
       " 'reality',\n",
       " 'learn',\n",
       " 'kull',\n",
       " 'saddle',\n",
       " 'emperor',\n",
       " 'emissary',\n",
       " 'lose',\n",
       " 'dimly',\n",
       " 'outside',\n",
       " 'clash',\n",
       " 'slave',\n",
       " 'fail',\n",
       " 'need',\n",
       " 'tribal',\n",
       " 'jaw',\n",
       " 'rein',\n",
       " 'glitter',\n",
       " 'swirl',\n",
       " 'hint',\n",
       " 'find',\n",
       " 'barbarian',\n",
       " 'Elder',\n",
       " 'rear',\n",
       " 'wish',\n",
       " 'scarcely',\n",
       " 'otherwise',\n",
       " 'outer',\n",
       " 'curtain',\n",
       " 'sinister',\n",
       " 'baron',\n",
       " 'beard',\n",
       " 'degenerate',\n",
       " 'steed',\n",
       " 'thus',\n",
       " 'sure',\n",
       " 'wander',\n",
       " 'being',\n",
       " 'Blaal',\n",
       " 'wisdom',\n",
       " 'train',\n",
       " 'score',\n",
       " 'unreality',\n",
       " 'hideous',\n",
       " 'rose',\n",
       " 'good',\n",
       " 'temple',\n",
       " 'build',\n",
       " 'Lord',\n",
       " 'deal',\n",
       " 'ease',\n",
       " 'immobile',\n",
       " 'somewhere',\n",
       " 'most',\n",
       " 'hoof',\n",
       " 'mere',\n",
       " 'stay',\n",
       " 'usual',\n",
       " 'whirl',\n",
       " 'forever',\n",
       " 'easily',\n",
       " 'seemingly',\n",
       " 'hark',\n",
       " 'Slay',\n",
       " 'apparently',\n",
       " 'Would',\n",
       " 'happen',\n",
       " 'trumpet',\n",
       " 'kiss',\n",
       " 'traitor',\n",
       " 'beam',\n",
       " 'murmur',\n",
       " 'sink',\n",
       " 'except',\n",
       " 'pitch',\n",
       " 'hideously',\n",
       " 'lower',\n",
       " 'corner',\n",
       " 'squarely',\n",
       " 'edge',\n",
       " 'scoundrel',\n",
       " 'feeling',\n",
       " 'yes',\n",
       " 'Accursed',\n",
       " 'grandeur',\n",
       " 'muscular',\n",
       " 'Lion',\n",
       " 'three',\n",
       " 'bead',\n",
       " 'gigantic',\n",
       " 'castle',\n",
       " 'murder',\n",
       " 'cease',\n",
       " 'linger',\n",
       " 'prosperity',\n",
       " 'jovial',\n",
       " 'terribly',\n",
       " 'wheel',\n",
       " 'plainly',\n",
       " 'hour',\n",
       " 'useless',\n",
       " 'longer',\n",
       " 'fellow',\n",
       " 'conventional',\n",
       " 'plunge',\n",
       " 'soldiery',\n",
       " 'fountain',\n",
       " 'glint',\n",
       " 'skull',\n",
       " 'barely',\n",
       " 'fantasy',\n",
       " 'shrug',\n",
       " 'spire',\n",
       " 'tale',\n",
       " 'kingdom',\n",
       " 'ghastly',\n",
       " 'corpse',\n",
       " 'sheath',\n",
       " 'sill',\n",
       " 'fang',\n",
       " 'fiercely',\n",
       " 'rank',\n",
       " 'horrified',\n",
       " 'shore',\n",
       " 'bone',\n",
       " 'ambush',\n",
       " 'aid',\n",
       " 'quick',\n",
       " 'breathe',\n",
       " 'religion',\n",
       " 'bent',\n",
       " 'new',\n",
       " 'triumph',\n",
       " 'safe',\n",
       " 'valusian',\n",
       " 'million',\n",
       " 'passageway',\n",
       " 'curl',\n",
       " 'compare',\n",
       " 'retrace',\n",
       " 'maze',\n",
       " 'enter',\n",
       " 'rasp',\n",
       " 'beyond',\n",
       " 'keeper',\n",
       " 'clothe',\n",
       " 'bygone',\n",
       " 'guise',\n",
       " 'bowman',\n",
       " 'distance',\n",
       " 'association',\n",
       " 'worship',\n",
       " 'knee',\n",
       " 'drop',\n",
       " 'mazy',\n",
       " 'winged',\n",
       " 'wide',\n",
       " 'fill',\n",
       " 'smite',\n",
       " 'loss',\n",
       " 'release',\n",
       " 'unknown',\n",
       " 'bind',\n",
       " 'fury',\n",
       " 'state',\n",
       " 'sprawl',\n",
       " 'weariness',\n",
       " 'nod',\n",
       " 'reptilian',\n",
       " 'defiant',\n",
       " 'darkness',\n",
       " 'free',\n",
       " 'group',\n",
       " 'stolidly',\n",
       " 'truth',\n",
       " 'unreal',\n",
       " 'slide',\n",
       " 'Who',\n",
       " 'carrion',\n",
       " \"'\",\n",
       " 'formal',\n",
       " 'striking',\n",
       " 'raise',\n",
       " 'human',\n",
       " 'meaning',\n",
       " 'sage',\n",
       " 'cleave',\n",
       " 'icy',\n",
       " 'shrewd',\n",
       " 'counterpart',\n",
       " 'next',\n",
       " 'brown',\n",
       " 'goblin',\n",
       " 'pleased',\n",
       " '...',\n",
       " 'height',\n",
       " 'shrink',\n",
       " 'able',\n",
       " 'grisly',\n",
       " 'common',\n",
       " 'perfect',\n",
       " 'comment',\n",
       " 'bleed',\n",
       " 'cautiously',\n",
       " 'view',\n",
       " 'glory',\n",
       " 'prejudice',\n",
       " 'rush',\n",
       " 'fancy',\n",
       " 'confidence',\n",
       " 'bird',\n",
       " 'surface',\n",
       " 'thrill',\n",
       " 'risk',\n",
       " 'slender',\n",
       " 'carry',\n",
       " 'certain',\n",
       " 'Mu',\n",
       " 'mechanically',\n",
       " 'Throne',\n",
       " 'throng',\n",
       " 'curve',\n",
       " 'restlessly',\n",
       " 'incredible',\n",
       " 'tone',\n",
       " 'tonight',\n",
       " 'believe',\n",
       " 'tigerish',\n",
       " 'Valusian',\n",
       " 'divan',\n",
       " 'inhuman',\n",
       " 'trail',\n",
       " 'menace',\n",
       " 'steadily',\n",
       " '’',\n",
       " 'vaguely',\n",
       " 'fly',\n",
       " 'torch',\n",
       " 'undertone',\n",
       " 'misty',\n",
       " 'complete',\n",
       " 'sparkle',\n",
       " 'embassy',\n",
       " 'known',\n",
       " 'nook',\n",
       " 'lust',\n",
       " 'ermine',\n",
       " 'sinewy',\n",
       " 'spring',\n",
       " 'brave',\n",
       " 'friend',\n",
       " 'nameless',\n",
       " 'fle',\n",
       " 'noiselessly',\n",
       " 'impossible',\n",
       " 'sort',\n",
       " 'hoary',\n",
       " 'tower',\n",
       " 'resentful',\n",
       " 'face—',\n",
       " 'usurper',\n",
       " 'ambassador',\n",
       " 'set',\n",
       " 'secrecy',\n",
       " 'wise',\n",
       " 'girl',\n",
       " 'beat',\n",
       " 'sunset',\n",
       " 'return',\n",
       " 'kingly',\n",
       " 'mingle',\n",
       " 'realm',\n",
       " 'spy',\n",
       " 'silence',\n",
       " 'east',\n",
       " 'front',\n",
       " 'afoot',\n",
       " 'tree',\n",
       " 'unto',\n",
       " 'opposite',\n",
       " 'stare',\n",
       " 'Spear',\n",
       " 'onrushing',\n",
       " 'drag',\n",
       " 'hide',\n",
       " 'fighting',\n",
       " 'send',\n",
       " 'favor',\n",
       " 'fairly',\n",
       " 'morning',\n",
       " 'elemental',\n",
       " 'left',\n",
       " 'grip',\n",
       " 'seizing',\n",
       " 'very',\n",
       " 'hiding',\n",
       " 'mankind',\n",
       " 'likewise',\n",
       " 'curse',\n",
       " 'full',\n",
       " 'carcass',\n",
       " 'feast',\n",
       " 'fully',\n",
       " 'snatch',\n",
       " 'bold',\n",
       " 'nightmare',\n",
       " 'shadowy',\n",
       " 'mane',\n",
       " 'expression',\n",
       " 'under',\n",
       " 'end',\n",
       " 'grasp',\n",
       " 'slayer',\n",
       " 'remark',\n",
       " 'proud',\n",
       " 'hasten',\n",
       " 'lazy',\n",
       " 'ruby',\n",
       " 'appearance',\n",
       " 'dizziness',\n",
       " 'because',\n",
       " 'vengeance',\n",
       " 'crawl',\n",
       " 'table',\n",
       " 'fortune',\n",
       " 'dance',\n",
       " 'dizzy',\n",
       " 'leg',\n",
       " 'demon',\n",
       " 'throughout',\n",
       " 'sliding',\n",
       " 'surely',\n",
       " 'wisp',\n",
       " 'defiance',\n",
       " 'slump',\n",
       " 'mysticism',\n",
       " 'regain',\n",
       " 'symbol',\n",
       " 'interfere',\n",
       " 'color',\n",
       " 'neophyte',\n",
       " 'guzzle',\n",
       " 'enact',\n",
       " 'formally',\n",
       " 'nevertheless',\n",
       " 'examine',\n",
       " 'flame',\n",
       " 'hurl',\n",
       " 'continually',\n",
       " 'upraised',\n",
       " 'converse',\n",
       " 'chord',\n",
       " 'miss',\n",
       " 'clatter',\n",
       " 'blare',\n",
       " 'exclamation',\n",
       " 'pillar',\n",
       " 'band',\n",
       " 'Civilization',\n",
       " 'killer',\n",
       " 'wane',\n",
       " 'defense',\n",
       " 'self',\n",
       " 'obliquely',\n",
       " 'snare',\n",
       " 'recess',\n",
       " 'seal',\n",
       " 'following',\n",
       " 'fit',\n",
       " 'content',\n",
       " 'proceed',\n",
       " 'stillness',\n",
       " 'file',\n",
       " 'material',\n",
       " 'unaccountable',\n",
       " 'primal',\n",
       " 'prove',\n",
       " 'gore',\n",
       " 'apedom',\n",
       " 'league',\n",
       " 'willing',\n",
       " 'astound',\n",
       " 'filter',\n",
       " 'instinct',\n",
       " 'minor',\n",
       " 'game',\n",
       " 'yon',\n",
       " 'seldom',\n",
       " 'dissent',\n",
       " 'mazed',\n",
       " 'revel',\n",
       " 'spend',\n",
       " 'map',\n",
       " ' ',\n",
       " 'shame',\n",
       " 'falter',\n",
       " 'overhand',\n",
       " 'likely',\n",
       " 'background',\n",
       " 'expose',\n",
       " 'latter',\n",
       " 'segment',\n",
       " 'warfare',\n",
       " ...]"
      ]
     },
     "execution_count": 336,
     "metadata": {},
     "output_type": "execute_result"
    }
   ],
   "source": [
    "[ i[0] for i in sortFreqDict(allLemmataCount) ]"
   ]
  },
  {
   "cell_type": "code",
   "execution_count": null,
   "metadata": {},
   "outputs": [],
   "source": []
  }
 ],
 "metadata": {
  "kernelspec": {
   "display_name": "Python 3",
   "language": "python",
   "name": "python3"
  },
  "language_info": {
   "codemirror_mode": {
    "name": "ipython",
    "version": 3
   },
   "file_extension": ".py",
   "mimetype": "text/x-python",
   "name": "python",
   "nbconvert_exporter": "python",
   "pygments_lexer": "ipython3",
   "version": "3.7.3"
  },
  "toc": {
   "colors": {
    "hover_highlight": "#DAA520",
    "navigate_num": "#000000",
    "navigate_text": "#333333",
    "running_highlight": "#FF0000",
    "selected_highlight": "#FFD700",
    "sidebar_border": "#EEEEEE",
    "wrapper_background": "#FFFFFF"
   },
   "moveMenuLeft": true,
   "nav_menu": {
    "height": "156px",
    "width": "252px"
   },
   "navigate_menu": true,
   "number_sections": true,
   "sideBar": false,
   "threshold": 4,
   "toc_cell": true,
   "toc_section_display": "block",
   "toc_window_display": true,
   "widenNotebook": false
  }
 },
 "nbformat": 4,
 "nbformat_minor": 2
}
